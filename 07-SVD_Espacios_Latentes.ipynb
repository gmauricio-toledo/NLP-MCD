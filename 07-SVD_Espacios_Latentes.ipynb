{
  "nbformat": 4,
  "nbformat_minor": 0,
  "metadata": {
    "colab": {
      "provenance": [],
      "include_colab_link": true
    },
    "kernelspec": {
      "name": "python3",
      "display_name": "Python 3"
    },
    "language_info": {
      "name": "python"
    }
  },
  "cells": [
    {
      "cell_type": "markdown",
      "metadata": {
        "id": "view-in-github",
        "colab_type": "text"
      },
      "source": [
        "<a href=\"https://colab.research.google.com/github/gmauricio-toledo/NLP-MCD/blob/main/07-SVD_Espacios_Latentes.ipynb\" target=\"_parent\"><img src=\"https://colab.research.google.com/assets/colab-badge.svg\" alt=\"Open In Colab\"/></a>"
      ]
    },
    {
      "cell_type": "code",
      "execution_count": null,
      "metadata": {
        "id": "KeJqm8M85FET"
      },
      "outputs": [],
      "source": [
        "import pandas as pd\n",
        "import numpy as np\n",
        "import matplotlib.pyplot as plt\n",
        "import seaborn as sns"
      ]
    },
    {
      "cell_type": "code",
      "source": [
        "import pandas as pd\n",
        "\n",
        "path = ...\n",
        "df = pd.read_excel(path)\n",
        "df.head()"
      ],
      "metadata": {
        "id": "9uhFFl0B5Pm2"
      },
      "execution_count": null,
      "outputs": []
    },
    {
      "cell_type": "code",
      "source": [
        "nombres = list(df.iloc[:,0].values)\n",
        "movies = df.iloc[:,1:].columns.to_list()\n",
        "print(nombres)\n",
        "print(movies)"
      ],
      "metadata": {
        "id": "OabQGh1nPkJP"
      },
      "execution_count": null,
      "outputs": []
    },
    {
      "cell_type": "code",
      "source": [
        "df_no_names = df.drop(columns=['Unnamed: 0'])\n",
        "df_no_names"
      ],
      "metadata": {
        "id": "V8KSEJBFCCNG"
      },
      "execution_count": null,
      "outputs": []
    },
    {
      "cell_type": "code",
      "source": [
        "import matplotlib.pyplot as plt\n",
        "import seaborn as sns\n",
        "\n",
        "df_aux = df_no_names.replace(np.nan,0)\n",
        "plt.figure(figsize=(10, 6))\n",
        "sns.heatmap(df_aux, cmap='coolwarm', linewidths=0.5,yticklabels=nombres)\n",
        "plt.title('Matriz de calificaciones')\n",
        "plt.xlabel('Películas')\n",
        "plt.ylabel('Usuarios')\n",
        "plt.show()"
      ],
      "metadata": {
        "id": "ahhZvp7rouHG"
      },
      "execution_count": null,
      "outputs": []
    },
    {
      "cell_type": "markdown",
      "source": [
        "## Imputación"
      ],
      "metadata": {
        "id": "YKzUjMdPl097"
      }
    },
    {
      "cell_type": "code",
      "source": [
        "#Utilizando simple imputer para los datos faltantes\n",
        "from sklearn.impute import SimpleImputer\n",
        "\n",
        "# imputer = SimpleImputer(strategy='mean')\n",
        "imputer = SimpleImputer(strategy='constant', fill_value=0)\n",
        "df_imputed = pd.DataFrame(imputer.fit_transform(df_no_names), columns=df_no_names.columns)\n",
        "df_imputed"
      ],
      "metadata": {
        "id": "_EFcyFEO_0MP"
      },
      "execution_count": null,
      "outputs": []
    },
    {
      "cell_type": "markdown",
      "source": [
        "## Singular Value Decomposition"
      ],
      "metadata": {
        "id": "EHje3x0Yl2mm"
      }
    },
    {
      "cell_type": "code",
      "source": [
        "#Haciendo truncatedSVD con n_components < #peliculas\n",
        "from sklearn.decomposition import TruncatedSVD\n",
        "\n",
        "svd = TruncatedSVD(n_components=5)\n",
        "X_transformed = svd.fit_transform(df_imputed)\n",
        "print(f\"Matriz individuos-componentes latentes: {X_transformed.shape}\")"
      ],
      "metadata": {
        "id": "6qDDD74l7eRg"
      },
      "execution_count": null,
      "outputs": []
    },
    {
      "cell_type": "code",
      "source": [
        "#Matriz components_\n",
        "components = svd.components_.T\n",
        "print(f\"Matriz componentes-peliculas: {components.shape}\")"
      ],
      "metadata": {
        "id": "PD3UvuhF8X0b"
      },
      "execution_count": null,
      "outputs": []
    },
    {
      "cell_type": "markdown",
      "source": [
        "## Máxima afinidad"
      ],
      "metadata": {
        "id": "KLG0LBoqmBYt"
      }
    },
    {
      "cell_type": "code",
      "source": [
        "from numpy import argmax\n",
        "\n",
        "x_arg = argmax(X_transformed, axis=1)\n",
        "print(x_arg.shape)\n",
        "x_arg"
      ],
      "metadata": {
        "id": "rrl1lbng9jkF"
      },
      "execution_count": null,
      "outputs": []
    },
    {
      "cell_type": "code",
      "source": [
        "import matplotlib.pyplot as plt\n",
        "import seaborn as sns\n",
        "\n",
        "plt.figure(figsize=(10, 6))\n",
        "sns.heatmap(X_transformed, cmap='coolwarm', annot=True, fmt='.2f', linewidths=0.5)\n",
        "plt.title('Matriz Individuos - Componentes Latentes')\n",
        "plt.xlabel('Componentes')\n",
        "plt.ylabel('Individuos')\n",
        "plt.show()"
      ],
      "metadata": {
        "id": "t_C95xr1Q9Us"
      },
      "execution_count": null,
      "outputs": []
    },
    {
      "cell_type": "code",
      "source": [
        "#aplicandosela a components\n",
        "components_arg = argmax(components, axis=1)\n",
        "components_arg"
      ],
      "metadata": {
        "id": "Ewf4UCdW-U7h"
      },
      "execution_count": null,
      "outputs": []
    },
    {
      "cell_type": "code",
      "source": [
        "import matplotlib.pyplot as plt\n",
        "import seaborn as sns\n",
        "\n",
        "plt.figure(figsize=(10, 6))\n",
        "sns.heatmap(components, cmap='coolwarm', annot=True, fmt='.2f', linewidths=0.5)\n",
        "plt.title('Matriz Peliculas - Componentes Latentes')\n",
        "plt.xlabel('Componentes')\n",
        "plt.ylabel('Películas')\n",
        "plt.show()"
      ],
      "metadata": {
        "id": "Kl0f5oUJRrDc"
      },
      "execution_count": null,
      "outputs": []
    },
    {
      "cell_type": "markdown",
      "source": [
        "## Peliculas agrupadas por grupos"
      ],
      "metadata": {
        "id": "goxEZDYQmEED"
      }
    },
    {
      "cell_type": "code",
      "source": [
        "for j in range(X_transformed.shape[1]):\n",
        "    movie_idxs = np.where(components_arg==j)[0]\n",
        "    print(f\"Grupo {j+1}:\")\n",
        "    for idx in movie_idxs:\n",
        "        print(f\"\\t{movies[idx]}\")"
      ],
      "metadata": {
        "id": "WOhSIiE5PXj4"
      },
      "execution_count": null,
      "outputs": []
    },
    {
      "cell_type": "markdown",
      "source": [
        "## Embeddings"
      ],
      "metadata": {
        "id": "8agCgHVHmIGN"
      }
    },
    {
      "cell_type": "code",
      "source": [
        "individuos_embeddings = X_transformed.copy()\n",
        "peliculas_embeddings = components.copy()"
      ],
      "metadata": {
        "id": "r1VgsUQrPfzi"
      },
      "execution_count": null,
      "outputs": []
    },
    {
      "cell_type": "code",
      "source": [
        "from sklearn.neighbors import NearestNeighbors\n",
        "\n",
        "nn = NearestNeighbors(n_neighbors=5, metric='cosine')\n",
        "nn.fit(individuos_embeddings)\n",
        "\n",
        "for j,x in enumerate(nombres):\n",
        "    distances, indices = nn.kneighbors([individuos_embeddings[j]])\n",
        "    idx = indices[0][1]\n",
        "    print(f\"Más similar a {x}: {nombres[idx]}\")"
      ],
      "metadata": {
        "id": "3VFI8NQ3mVgc"
      },
      "execution_count": null,
      "outputs": []
    },
    {
      "cell_type": "code",
      "source": [
        "nn = NearestNeighbors(n_neighbors=5, metric='cosine')\n",
        "nn.fit(peliculas_embeddings)\n",
        "\n",
        "for j,x in enumerate(movies):\n",
        "    distances, indices = nn.kneighbors([peliculas_embeddings[j]])\n",
        "    idx = indices[0][1]\n",
        "    print(f\"Más similar a {x}: {movies[idx]}\")"
      ],
      "metadata": {
        "id": "rPLeZylJm4HM"
      },
      "execution_count": null,
      "outputs": []
    },
    {
      "cell_type": "code",
      "source": [],
      "metadata": {
        "id": "dCEhh5HBnbq8"
      },
      "execution_count": null,
      "outputs": []
    }
  ]
}