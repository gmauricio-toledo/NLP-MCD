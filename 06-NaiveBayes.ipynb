{
  "nbformat": 4,
  "nbformat_minor": 0,
  "metadata": {
    "colab": {
      "provenance": [],
      "authorship_tag": "ABX9TyOZny2C0+wRXJe8RXITFSdt",
      "include_colab_link": true
    },
    "kernelspec": {
      "name": "python3",
      "display_name": "Python 3"
    },
    "language_info": {
      "name": "python"
    }
  },
  "cells": [
    {
      "cell_type": "markdown",
      "metadata": {
        "id": "view-in-github",
        "colab_type": "text"
      },
      "source": [
        "<a href=\"https://colab.research.google.com/github/gmauricio-toledo/NLP-MCD/blob/main/06-NaiveBayes.ipynb\" target=\"_parent\"><img src=\"https://colab.research.google.com/assets/colab-badge.svg\" alt=\"Open In Colab\"/></a>"
      ]
    },
    {
      "cell_type": "markdown",
      "source": [
        "<h1>Naive Bayes</h1>"
      ],
      "metadata": {
        "id": "Z_11reVW_VJl"
      }
    },
    {
      "cell_type": "markdown",
      "source": [
        "En esta notebook usaremos el algoritmo Naive Bayes para tareas de clasificación de texto.\n",
        "\n",
        "Para esto, usaremos el corpus `20newsgroups`."
      ],
      "metadata": {
        "id": "GNnPXKQw_otO"
      }
    },
    {
      "cell_type": "code",
      "execution_count": 1,
      "metadata": {
        "id": "rofzguPb_L29"
      },
      "outputs": [],
      "source": [
        "from sklearn.datasets import fetch_20newsgroups\n",
        "from sklearn.feature_extraction.text import CountVectorizer\n",
        "from sklearn.naive_bayes import MultinomialNB\n",
        "import numpy as np\n",
        "import pandas as pd\n",
        "from sklearn.metrics import confusion_matrix\n",
        "from sklearn.metrics import classification_report"
      ]
    },
    {
      "cell_type": "markdown",
      "source": [
        "Cargamos el corpus. Nos fijaremos en dos categorias: *space* y *baseball*."
      ],
      "metadata": {
        "id": "T9uY2pjphk7b"
      }
    },
    {
      "cell_type": "code",
      "source": [
        "train_data = fetch_20newsgroups(subset='train',\n",
        "                                remove=('headers', 'footers', 'quotes'),\n",
        "                                categories=['sci.space', 'rec.sport.baseball']\n",
        "                                )\n",
        "test_data = fetch_20newsgroups(subset='test',\n",
        "                                remove=('headers', 'footers', 'quotes'),\n",
        "                                categories=['sci.space', 'rec.sport.baseball']\n",
        "                               )\n",
        "\n",
        "X_train_raw = train_data.data\n",
        "y_train = train_data.target\n",
        "\n",
        "X_test_raw = test_data.data\n",
        "y_test = test_data.target"
      ],
      "metadata": {
        "id": "_zNLU-xDAsS-"
      },
      "execution_count": 2,
      "outputs": []
    },
    {
      "cell_type": "markdown",
      "source": [
        "La clase negativa es *baseball* y la clase positiva es *space*."
      ],
      "metadata": {
        "id": "svfMZLk3qFTJ"
      }
    },
    {
      "cell_type": "code",
      "source": [
        "train_data.target_names"
      ],
      "metadata": {
        "id": "2lUDgNTBAzJK",
        "colab": {
          "base_uri": "https://localhost:8080/"
        },
        "outputId": "af26b11b-3f20-41c8-979c-cea0928b33d7"
      },
      "execution_count": 3,
      "outputs": [
        {
          "output_type": "execute_result",
          "data": {
            "text/plain": [
              "['rec.sport.baseball', 'sci.space']"
            ]
          },
          "metadata": {},
          "execution_count": 3
        }
      ]
    },
    {
      "cell_type": "markdown",
      "source": [
        "Obtengamos los conteos con el modelo `BOW`."
      ],
      "metadata": {
        "id": "UEw_IYYejbXE"
      }
    },
    {
      "cell_type": "code",
      "source": [
        "cv = CountVectorizer(max_features=2000,stop_words='english')\n",
        "X_train_bow = cv.fit_transform(X_train_raw)\n",
        "X_test_bow = cv.transform(X_test_raw)\n",
        "\n",
        "print(X_train_bow.shape)\n",
        "print(X_test_bow.shape)"
      ],
      "metadata": {
        "id": "lhGQuLDgA9v7",
        "colab": {
          "base_uri": "https://localhost:8080/"
        },
        "outputId": "21e80dd8-3c94-47fc-a2c0-f5802b9810ac"
      },
      "execution_count": 4,
      "outputs": [
        {
          "output_type": "stream",
          "name": "stdout",
          "text": [
            "(1190, 2000)\n",
            "(791, 2000)\n"
          ]
        }
      ]
    },
    {
      "cell_type": "code",
      "source": [
        "print(y_train.shape)\n",
        "print(y_test.shape)"
      ],
      "metadata": {
        "colab": {
          "base_uri": "https://localhost:8080/"
        },
        "id": "98M0Lp6835iF",
        "outputId": "9f0f4b0c-7ca5-4ea5-dadc-86fa042e8950"
      },
      "execution_count": 5,
      "outputs": [
        {
          "output_type": "stream",
          "name": "stdout",
          "text": [
            "(1190,)\n",
            "(791,)\n"
          ]
        }
      ]
    },
    {
      "cell_type": "markdown",
      "source": [
        "Instanciamos y entrenamos el clasificador [Naive Bayes Multinomial](https://scikit-learn.org/stable/modules/generated/sklearn.naive_bayes.MultinomialNB.html)."
      ],
      "metadata": {
        "id": "0dUI1LpXjifF"
      }
    },
    {
      "cell_type": "code",
      "source": [
        "nb = MultinomialNB()\n",
        "nb.fit(X_train_bow, y_train)"
      ],
      "metadata": {
        "colab": {
          "base_uri": "https://localhost:8080/",
          "height": 75
        },
        "id": "PLMAi5N_3rZt",
        "outputId": "b359c7a4-7fc7-47d2-cf42-14f6739d0517"
      },
      "execution_count": 6,
      "outputs": [
        {
          "output_type": "execute_result",
          "data": {
            "text/plain": [
              "MultinomialNB()"
            ],
            "text/html": [
              "<style>#sk-container-id-1 {color: black;}#sk-container-id-1 pre{padding: 0;}#sk-container-id-1 div.sk-toggleable {background-color: white;}#sk-container-id-1 label.sk-toggleable__label {cursor: pointer;display: block;width: 100%;margin-bottom: 0;padding: 0.3em;box-sizing: border-box;text-align: center;}#sk-container-id-1 label.sk-toggleable__label-arrow:before {content: \"▸\";float: left;margin-right: 0.25em;color: #696969;}#sk-container-id-1 label.sk-toggleable__label-arrow:hover:before {color: black;}#sk-container-id-1 div.sk-estimator:hover label.sk-toggleable__label-arrow:before {color: black;}#sk-container-id-1 div.sk-toggleable__content {max-height: 0;max-width: 0;overflow: hidden;text-align: left;background-color: #f0f8ff;}#sk-container-id-1 div.sk-toggleable__content pre {margin: 0.2em;color: black;border-radius: 0.25em;background-color: #f0f8ff;}#sk-container-id-1 input.sk-toggleable__control:checked~div.sk-toggleable__content {max-height: 200px;max-width: 100%;overflow: auto;}#sk-container-id-1 input.sk-toggleable__control:checked~label.sk-toggleable__label-arrow:before {content: \"▾\";}#sk-container-id-1 div.sk-estimator input.sk-toggleable__control:checked~label.sk-toggleable__label {background-color: #d4ebff;}#sk-container-id-1 div.sk-label input.sk-toggleable__control:checked~label.sk-toggleable__label {background-color: #d4ebff;}#sk-container-id-1 input.sk-hidden--visually {border: 0;clip: rect(1px 1px 1px 1px);clip: rect(1px, 1px, 1px, 1px);height: 1px;margin: -1px;overflow: hidden;padding: 0;position: absolute;width: 1px;}#sk-container-id-1 div.sk-estimator {font-family: monospace;background-color: #f0f8ff;border: 1px dotted black;border-radius: 0.25em;box-sizing: border-box;margin-bottom: 0.5em;}#sk-container-id-1 div.sk-estimator:hover {background-color: #d4ebff;}#sk-container-id-1 div.sk-parallel-item::after {content: \"\";width: 100%;border-bottom: 1px solid gray;flex-grow: 1;}#sk-container-id-1 div.sk-label:hover label.sk-toggleable__label {background-color: #d4ebff;}#sk-container-id-1 div.sk-serial::before {content: \"\";position: absolute;border-left: 1px solid gray;box-sizing: border-box;top: 0;bottom: 0;left: 50%;z-index: 0;}#sk-container-id-1 div.sk-serial {display: flex;flex-direction: column;align-items: center;background-color: white;padding-right: 0.2em;padding-left: 0.2em;position: relative;}#sk-container-id-1 div.sk-item {position: relative;z-index: 1;}#sk-container-id-1 div.sk-parallel {display: flex;align-items: stretch;justify-content: center;background-color: white;position: relative;}#sk-container-id-1 div.sk-item::before, #sk-container-id-1 div.sk-parallel-item::before {content: \"\";position: absolute;border-left: 1px solid gray;box-sizing: border-box;top: 0;bottom: 0;left: 50%;z-index: -1;}#sk-container-id-1 div.sk-parallel-item {display: flex;flex-direction: column;z-index: 1;position: relative;background-color: white;}#sk-container-id-1 div.sk-parallel-item:first-child::after {align-self: flex-end;width: 50%;}#sk-container-id-1 div.sk-parallel-item:last-child::after {align-self: flex-start;width: 50%;}#sk-container-id-1 div.sk-parallel-item:only-child::after {width: 0;}#sk-container-id-1 div.sk-dashed-wrapped {border: 1px dashed gray;margin: 0 0.4em 0.5em 0.4em;box-sizing: border-box;padding-bottom: 0.4em;background-color: white;}#sk-container-id-1 div.sk-label label {font-family: monospace;font-weight: bold;display: inline-block;line-height: 1.2em;}#sk-container-id-1 div.sk-label-container {text-align: center;}#sk-container-id-1 div.sk-container {/* jupyter's `normalize.less` sets `[hidden] { display: none; }` but bootstrap.min.css set `[hidden] { display: none !important; }` so we also need the `!important` here to be able to override the default hidden behavior on the sphinx rendered scikit-learn.org. See: https://github.com/scikit-learn/scikit-learn/issues/21755 */display: inline-block !important;position: relative;}#sk-container-id-1 div.sk-text-repr-fallback {display: none;}</style><div id=\"sk-container-id-1\" class=\"sk-top-container\"><div class=\"sk-text-repr-fallback\"><pre>MultinomialNB()</pre><b>In a Jupyter environment, please rerun this cell to show the HTML representation or trust the notebook. <br />On GitHub, the HTML representation is unable to render, please try loading this page with nbviewer.org.</b></div><div class=\"sk-container\" hidden><div class=\"sk-item\"><div class=\"sk-estimator sk-toggleable\"><input class=\"sk-toggleable__control sk-hidden--visually\" id=\"sk-estimator-id-1\" type=\"checkbox\" checked><label for=\"sk-estimator-id-1\" class=\"sk-toggleable__label sk-toggleable__label-arrow\">MultinomialNB</label><div class=\"sk-toggleable__content\"><pre>MultinomialNB()</pre></div></div></div></div></div>"
            ]
          },
          "metadata": {},
          "execution_count": 6
        }
      ]
    },
    {
      "cell_type": "markdown",
      "source": [
        "Realizamos las predicciones y evaluamos el desempeño del modelo"
      ],
      "metadata": {
        "id": "tdM_roBpjw6T"
      }
    },
    {
      "cell_type": "code",
      "source": [
        "y_pred = nb.predict(X_test_bow)\n",
        "\n",
        "print(confusion_matrix(y_test, y_pred))\n",
        "print(classification_report(y_test, y_pred))"
      ],
      "metadata": {
        "colab": {
          "base_uri": "https://localhost:8080/"
        },
        "id": "ybsVlV2R38Vl",
        "outputId": "a1709360-ac8e-48d8-d8dc-5f59efee62b6"
      },
      "execution_count": 7,
      "outputs": [
        {
          "output_type": "stream",
          "name": "stdout",
          "text": [
            "[[380  17]\n",
            " [ 38 356]]\n",
            "              precision    recall  f1-score   support\n",
            "\n",
            "           0       0.91      0.96      0.93       397\n",
            "           1       0.95      0.90      0.93       394\n",
            "\n",
            "    accuracy                           0.93       791\n",
            "   macro avg       0.93      0.93      0.93       791\n",
            "weighted avg       0.93      0.93      0.93       791\n",
            "\n"
          ]
        }
      ]
    },
    {
      "cell_type": "markdown",
      "source": [
        "Accedemos a las probabilidades de cada palabra, en cada clase."
      ],
      "metadata": {
        "id": "F96UqLHUj252"
      }
    },
    {
      "cell_type": "code",
      "source": [
        "nb.feature_log_prob_.shape"
      ],
      "metadata": {
        "colab": {
          "base_uri": "https://localhost:8080/"
        },
        "id": "hX8v1yrK39tZ",
        "outputId": "57a586ed-a6c9-4267-9199-260d58e686e6"
      },
      "execution_count": null,
      "outputs": [
        {
          "output_type": "execute_result",
          "data": {
            "text/plain": [
              "(2, 2000)"
            ]
          },
          "metadata": {},
          "execution_count": 13
        }
      ]
    },
    {
      "cell_type": "markdown",
      "source": [
        "Definimos una función que nos muestre las palabras más determinantes en cada clase"
      ],
      "metadata": {
        "id": "UMizxGVaj87g"
      }
    },
    {
      "cell_type": "code",
      "source": [
        "def show_top_words(classifier, vectorizer, categories, top_n):\n",
        "  feature_names = np.asarray(vectorizer.get_feature_names_out())\n",
        "  for i, category in enumerate(categories):\n",
        "    prob_sorted = classifier.feature_log_prob_[i, :].argsort()[::-1]\n",
        "    print(f\"{category}:\\n\\t{' '.join(feature_names[prob_sorted[:top_n]])}\")"
      ],
      "metadata": {
        "id": "2mxYnzXy4NxY"
      },
      "execution_count": 8,
      "outputs": []
    },
    {
      "cell_type": "markdown",
      "source": [
        "Veamos las palabras más determinantes en cada clase, en orden:"
      ],
      "metadata": {
        "id": "13dKJ7K_kCRM"
      }
    },
    {
      "cell_type": "code",
      "source": [
        "show_top_words(nb, cv, train_data.target_names, 12)"
      ],
      "metadata": {
        "colab": {
          "base_uri": "https://localhost:8080/"
        },
        "id": "rvmj2Bo9-2JD",
        "outputId": "675a62f0-aae2-4693-8e59-2b241a1a58b0"
      },
      "execution_count": 9,
      "outputs": [
        {
          "output_type": "stream",
          "name": "stdout",
          "text": [
            "rec.sport.baseball:\n",
            "\tyear game good team think don 00 just like games better baseball\n",
            "sci.space:\n",
            "\tspace nasa launch like earth data orbit time shuttle just satellite lunar\n"
          ]
        }
      ]
    },
    {
      "cell_type": "markdown",
      "source": [
        "Probemos con un documento de prueba ajeno:\n",
        "\n",
        "https://en.wikipedia.org/wiki/Main_Page"
      ],
      "metadata": {
        "id": "n7x-aOwDA9M6"
      }
    },
    {
      "cell_type": "code",
      "source": [
        "new_text = '''\n",
        "First Horizon Park, formerly known as First Tennessee Park, is a baseball park in downtown Nashville, Tennessee, United States. The home of the Triple-A Nashville Sounds of the International League, it opened on April 17, 2015, and can seat up to 10,000 people. It replaced the Sounds' former home, Herschel Greer Stadium, where the team played from its founding in 1978 through 2014.\n",
        "\n",
        "The park was built on the site of the former Sulphur Dell, a minor league ballpark in use from 1885 to 1963. It is located between Third and Fifth Avenues on the east and west (home plate, the pitcher's mound, and second base are directly in line with Fourth Avenue to the stadium's north and south) and between Junior Gilliam Way and Harrison Street on the north and south. The Nashville skyline can be seen from the stadium to the south.\n",
        "\n",
        "The design of the park incorporates elements of Nashville's baseball and musical heritage and the use of imagery inspired by Sulphur Dell, the city's former baseball players and teams, and country music. Its most distinctive feature is its guitar-shaped scoreboard—a successor to the original guitar scoreboard at Greer Stadium. The ballpark's wide concourse wraps entirely around the stadium and provides views of the field from every location.\n",
        "\n",
        "Though primarily a venue for the Nashville Sounds, collegiate and high school baseball teams based in the area, such as the Vanderbilt Commodores and Belmont Bruins, have played some games at the ballpark. Nashville SC, a soccer team of the United Soccer League Championship, played its home matches at the facility from 2018 to 2019. It has also hosted other events, including celebrity softball games and various food and drink festivals.\n",
        "'''\n",
        "\n",
        "cv_new_text = cv.transform([new_text])\n",
        "nb.predict(cv_new_text)"
      ],
      "metadata": {
        "colab": {
          "base_uri": "https://localhost:8080/"
        },
        "id": "gVZLoEZdpmto",
        "outputId": "a0506678-374e-4f1f-96c2-e413c1f58428"
      },
      "execution_count": 31,
      "outputs": [
        {
          "output_type": "execute_result",
          "data": {
            "text/plain": [
              "array([0])"
            ]
          },
          "metadata": {},
          "execution_count": 31
        }
      ]
    },
    {
      "cell_type": "markdown",
      "source": [
        "Veamos un clasificador *baseline* y comparemos el rendimiento"
      ],
      "metadata": {
        "id": "y254gAg_kKti"
      }
    },
    {
      "cell_type": "code",
      "source": [
        "from sklearn.linear_model import LogisticRegression\n",
        "\n",
        "lr = LogisticRegression()\n",
        "lr.fit(X_train_bow, y_train)\n",
        "y_pred = lr.predict(X_test_bow)\n",
        "\n",
        "print(confusion_matrix(y_test, y_pred))\n",
        "print(classification_report(y_test, y_pred))"
      ],
      "metadata": {
        "colab": {
          "base_uri": "https://localhost:8080/"
        },
        "id": "hKNhlkCvK1h_",
        "outputId": "ed963a91-0939-4d89-caf7-92f1e3517dbe"
      },
      "execution_count": 10,
      "outputs": [
        {
          "output_type": "stream",
          "name": "stdout",
          "text": [
            "[[373  24]\n",
            " [ 53 341]]\n",
            "              precision    recall  f1-score   support\n",
            "\n",
            "           0       0.88      0.94      0.91       397\n",
            "           1       0.93      0.87      0.90       394\n",
            "\n",
            "    accuracy                           0.90       791\n",
            "   macro avg       0.90      0.90      0.90       791\n",
            "weighted avg       0.90      0.90      0.90       791\n",
            "\n"
          ]
        }
      ]
    },
    {
      "cell_type": "markdown",
      "source": [
        "Veamos las palabras más determinantes para predecir la clase positiva (space). Comparemos con el Naive Bayes."
      ],
      "metadata": {
        "id": "R_J3wU_fkSfc"
      }
    },
    {
      "cell_type": "code",
      "source": [
        "fts_importance = lr.coef_.reshape(-1,)\n",
        "\n",
        "sorted(zip(fts_importance, cv.get_feature_names_out()),key=lambda x: x[0], reverse=True)[:10]"
      ],
      "metadata": {
        "colab": {
          "base_uri": "https://localhost:8080/"
        },
        "id": "sG9atO91LTPs",
        "outputId": "93175ce9-0b2b-4d9d-ed5b-db5c99868884"
      },
      "execution_count": 11,
      "outputs": [
        {
          "output_type": "execute_result",
          "data": {
            "text/plain": [
              "[(2.141400452192958, 'space'),\n",
              " (1.0236870490586576, 'orbit'),\n",
              " (0.9172908250150296, 'nasa'),\n",
              " (0.9032415599082049, 'solar'),\n",
              " (0.9016603334626981, 'quite'),\n",
              " (0.8896229078367699, 'stuff'),\n",
              " (0.8428052843006433, 'launch'),\n",
              " (0.8349719826729955, 'spacecraft'),\n",
              " (0.8162961492352656, 'real'),\n",
              " (0.7188628154702895, 'sounds')]"
            ]
          },
          "metadata": {},
          "execution_count": 11
        }
      ]
    },
    {
      "cell_type": "markdown",
      "source": [
        "Comparemos con otro clasificador: Support Vector Machine"
      ],
      "metadata": {
        "id": "HNqevj2akllY"
      }
    },
    {
      "cell_type": "code",
      "source": [
        "from sklearn.svm import SVC\n",
        "\n",
        "svm = SVC()\n",
        "svm.fit(X_train_bow, y_train)\n",
        "y_pred = svm.predict(X_test_bow)\n",
        "\n",
        "print(confusion_matrix(y_test, y_pred))\n",
        "print(classification_report(y_test, y_pred))"
      ],
      "metadata": {
        "colab": {
          "base_uri": "https://localhost:8080/"
        },
        "id": "oPW54LSVLZHl",
        "outputId": "4aa199f5-7732-4008-f74b-3cc5eee44072"
      },
      "execution_count": 12,
      "outputs": [
        {
          "output_type": "stream",
          "name": "stdout",
          "text": [
            "[[384  13]\n",
            " [109 285]]\n",
            "              precision    recall  f1-score   support\n",
            "\n",
            "           0       0.78      0.97      0.86       397\n",
            "           1       0.96      0.72      0.82       394\n",
            "\n",
            "    accuracy                           0.85       791\n",
            "   macro avg       0.87      0.85      0.84       791\n",
            "weighted avg       0.87      0.85      0.84       791\n",
            "\n"
          ]
        }
      ]
    },
    {
      "cell_type": "markdown",
      "source": [
        "Entrenemos un modelo usando embeddings de un modelo basado en transformadores, [RoBERTa](https://huggingface.co/docs/transformers/model_doc/roberta)."
      ],
      "metadata": {
        "id": "6GkU-twuk0fj"
      }
    },
    {
      "cell_type": "code",
      "source": [
        "!gdown 1qvEuXjb65m6Vh5gn6-XScqtVQz9b1Gme\n",
        "!gdown 14grKYRMZs96xd-tzEvDpEFc4FBO6Vm2H"
      ],
      "metadata": {
        "colab": {
          "base_uri": "https://localhost:8080/"
        },
        "id": "_A8RSyceoaYe",
        "outputId": "c76ac062-68e6-41d9-d183-0e9123f7a54d"
      },
      "execution_count": 21,
      "outputs": [
        {
          "output_type": "stream",
          "name": "stdout",
          "text": [
            "Downloading...\n",
            "From: https://drive.google.com/uc?id=1qvEuXjb65m6Vh5gn6-XScqtVQz9b1Gme\n",
            "To: /content/imdb-test-space_baseball-roberta.npy\n",
            "100% 2.43M/2.43M [00:00<00:00, 22.6MB/s]\n",
            "Downloading...\n",
            "From: https://drive.google.com/uc?id=14grKYRMZs96xd-tzEvDpEFc4FBO6Vm2H\n",
            "To: /content/imdb-train-space_baseball-roberta.npy\n",
            "100% 3.66M/3.66M [00:00<00:00, 85.0MB/s]\n"
          ]
        }
      ]
    },
    {
      "cell_type": "code",
      "source": [
        "train_embeddings = np.load(\"imdb-train-space_baseball-roberta.npy\")\n",
        "test_embeddings = np.load(\"imdb-test-space_baseball-roberta.npy\")\n",
        "\n",
        "print(train_embeddings.shape)\n",
        "print(test_embeddings.shape)"
      ],
      "metadata": {
        "colab": {
          "base_uri": "https://localhost:8080/"
        },
        "id": "k0wFa3I1k003",
        "outputId": "e05460fa-e44a-42c1-e518-92cad63ee0df"
      },
      "execution_count": 22,
      "outputs": [
        {
          "output_type": "stream",
          "name": "stdout",
          "text": [
            "(1190, 768)\n",
            "(791, 768)\n"
          ]
        }
      ]
    },
    {
      "cell_type": "code",
      "source": [
        "from sklearn.svm import SVC\n",
        "\n",
        "svm = SVC(C=2.5)\n",
        "svm.fit(train_embeddings, y_train)\n",
        "y_pred = svm.predict(test_embeddings)\n",
        "\n",
        "print(confusion_matrix(y_test, y_pred))\n",
        "print(classification_report(y_test, y_pred))"
      ],
      "metadata": {
        "colab": {
          "base_uri": "https://localhost:8080/"
        },
        "id": "bK6BK7DNlFNE",
        "outputId": "c9022061-c747-41a3-80c7-c857422891fd"
      },
      "execution_count": 24,
      "outputs": [
        {
          "output_type": "stream",
          "name": "stdout",
          "text": [
            "[[383  14]\n",
            " [ 54 340]]\n",
            "              precision    recall  f1-score   support\n",
            "\n",
            "           0       0.88      0.96      0.92       397\n",
            "           1       0.96      0.86      0.91       394\n",
            "\n",
            "    accuracy                           0.91       791\n",
            "   macro avg       0.92      0.91      0.91       791\n",
            "weighted avg       0.92      0.91      0.91       791\n",
            "\n"
          ]
        }
      ]
    },
    {
      "cell_type": "markdown",
      "source": [
        "## Con $n$-gramas"
      ],
      "metadata": {
        "id": "sIi2fIj6TZgM"
      }
    },
    {
      "cell_type": "code",
      "source": [
        "cv_grams = CountVectorizer(max_features=2000,stop_words='english', ngram_range=(2,2))\n",
        "X_train_tfidf_grams = cv_grams.fit_transform(X_train_raw)\n",
        "X_test_tfidf_grams = cv_grams.transform(X_test_raw)\n",
        "\n",
        "print(X_train_tfidf_grams.shape)\n",
        "print(X_test_tfidf_grams.shape)"
      ],
      "metadata": {
        "colab": {
          "base_uri": "https://localhost:8080/"
        },
        "id": "ixlW4hUWMBhw",
        "outputId": "c2d49e94-228b-451a-9a89-c36ef39679c2"
      },
      "execution_count": 27,
      "outputs": [
        {
          "output_type": "stream",
          "name": "stdout",
          "text": [
            "(1190, 2000)\n",
            "(791, 2000)\n"
          ]
        }
      ]
    },
    {
      "cell_type": "code",
      "source": [
        "cv_grams.get_feature_names_out()"
      ],
      "metadata": {
        "colab": {
          "base_uri": "https://localhost:8080/"
        },
        "id": "92VhfC6wM24I",
        "outputId": "efd44d4d-21f5-4dba-9619-38788b0e46f4"
      },
      "execution_count": 28,
      "outputs": [
        {
          "output_type": "execute_result",
          "data": {
            "text/plain": [
              "array(['00 00', '00 000', '00 01', ..., 'york times', 'york yankees',\n",
              "       'zoo toronto'], dtype=object)"
            ]
          },
          "metadata": {},
          "execution_count": 28
        }
      ]
    },
    {
      "cell_type": "code",
      "source": [
        "nb_grams = MultinomialNB()\n",
        "nb_grams.fit(X_train_tfidf_grams, y_train)\n",
        "y_pred = nb_grams.predict(X_test_tfidf_grams)\n",
        "\n",
        "print(confusion_matrix(y_test, y_pred))\n",
        "print(classification_report(y_test, y_pred))"
      ],
      "metadata": {
        "colab": {
          "base_uri": "https://localhost:8080/"
        },
        "id": "Xns3GM3DM85l",
        "outputId": "b6fabbf6-6c05-4d53-c1a8-a362acc9646e"
      },
      "execution_count": 29,
      "outputs": [
        {
          "output_type": "stream",
          "name": "stdout",
          "text": [
            "[[386  11]\n",
            " [157 237]]\n",
            "              precision    recall  f1-score   support\n",
            "\n",
            "           0       0.71      0.97      0.82       397\n",
            "           1       0.96      0.60      0.74       394\n",
            "\n",
            "    accuracy                           0.79       791\n",
            "   macro avg       0.83      0.79      0.78       791\n",
            "weighted avg       0.83      0.79      0.78       791\n",
            "\n"
          ]
        }
      ]
    },
    {
      "cell_type": "code",
      "source": [
        "show_top_words(nb_grams, cv_grams, train_data.target_names, 10)"
      ],
      "metadata": {
        "colab": {
          "base_uri": "https://localhost:8080/"
        },
        "id": "GwwBZAhBSc-r",
        "outputId": "cb15ec42-f388-4d78-b439-a668e09f1b13"
      },
      "execution_count": 30,
      "outputs": [
        {
          "output_type": "stream",
          "name": "stdout",
          "text": [
            "rec.sport.baseball:\n",
            "\t00 00 new york red sox cubs suck st louis suck cubs don know 02 03 home runs don think\n",
            "sci.space:\n",
            "\tnasa gov space station space shuttle sci space anonymous ftp remote sensing commercial space washington dc national space gamma ray\n"
          ]
        }
      ]
    },
    {
      "cell_type": "code",
      "source": [],
      "metadata": {
        "id": "D355ZXt-TosQ"
      },
      "execution_count": null,
      "outputs": []
    }
  ]
}