{
  "cells": [
    {
      "cell_type": "markdown",
      "metadata": {
        "colab_type": "text",
        "id": "view-in-github"
      },
      "source": [
        "<a href=\"https://colab.research.google.com/github/gmauricio-toledo/NLP-MCD/blob/main/04-N-gramas.ipynb\" target=\"_parent\"><img src=\"https://colab.research.google.com/assets/colab-badge.svg\" alt=\"Open In Colab\"/></a>"
      ]
    },
    {
      "cell_type": "markdown",
      "metadata": {
        "id": "xBW3_NymG21F"
      },
      "source": [
        "#Modelos de lenguaje: $N$-gramas"
      ]
    },
    {
      "cell_type": "markdown",
      "metadata": {
        "id": "oVrmwiUaFEvS"
      },
      "source": [
        "Usaremos el corpus Reuters para entrenar un primer modelo de lenguaje. Este modelo lo usaremos para predicir la siguiente palabra en una secuencia de palabras dada.\n",
        "\n",
        "El Corpus Reuters contiene 10,788 documentos de noticias con un total de 1.3 millones de palabras. Los documentos se han clasificado en 90 temas y agrupado en dos conjuntos, *train* y *test*.\n",
        "\n",
        "* Corpus en NLTK: https://www.nltk.org/howto/corpus.html"
      ]
    },
    {
      "cell_type": "code",
      "execution_count": 1,
      "metadata": {
        "id": "wBG8dzYt-04b"
      },
      "outputs": [],
      "source": [
        "import nltk\n",
        "from nltk import bigrams, trigrams\n",
        "from nltk.corpus import reuters\n",
        "from collections import defaultdict\n",
        "from string import punctuation"
      ]
    },
    {
      "cell_type": "code",
      "execution_count": 2,
      "metadata": {
        "colab": {
          "base_uri": "https://localhost:8080/"
        },
        "id": "-wjtYJk7-250",
        "outputId": "a032d0c5-6637-4d26-d75a-ff65b87b50d8"
      },
      "outputs": [
        {
          "name": "stderr",
          "output_type": "stream",
          "text": [
            "[nltk_data] Downloading package reuters to /root/nltk_data...\n",
            "[nltk_data] Downloading package punkt to /root/nltk_data...\n",
            "[nltk_data]   Unzipping tokenizers/punkt.zip.\n",
            "[nltk_data] Downloading package stopwords to /root/nltk_data...\n",
            "[nltk_data]   Unzipping corpora/stopwords.zip.\n"
          ]
        },
        {
          "data": {
            "text/plain": [
              "True"
            ]
          },
          "execution_count": 2,
          "metadata": {},
          "output_type": "execute_result"
        }
      ],
      "source": [
        "nltk.download('reuters')\n",
        "nltk.download('punkt')\n",
        "nltk.download('stopwords')"
      ]
    },
    {
      "cell_type": "markdown",
      "metadata": {
        "id": "NicPqSW5Sgcq"
      },
      "source": [
        "## 3-gramas"
      ]
    },
    {
      "cell_type": "markdown",
      "metadata": {
        "id": "4ervpo4r2xfQ"
      },
      "source": [
        "### Exploración del corpus\n",
        "\n",
        "Es importante explorar y conocer los corpus. Al entrenar nuestros modelos podemos necesitar corpora con caracteristicas particulares."
      ]
    },
    {
      "cell_type": "markdown",
      "metadata": {
        "id": "-b8q9JM1FVA8"
      },
      "source": [
        "Exploremos un poco el corpus. Veamos el inicio del corpus"
      ]
    },
    {
      "cell_type": "code",
      "execution_count": null,
      "metadata": {
        "id": "5VIpOhKRFWzm"
      },
      "outputs": [],
      "source": [
        "' '.join(reuters.words()[:15])"
      ]
    },
    {
      "cell_type": "markdown",
      "metadata": {
        "id": "sUCTK4DTzDdr"
      },
      "source": [
        "Podemos acceder a los *ids* de los archivos."
      ]
    },
    {
      "cell_type": "code",
      "execution_count": null,
      "metadata": {
        "id": "ULAolAOiyEBx"
      },
      "outputs": [],
      "source": [
        "reuters.fileids()[:5]"
      ]
    },
    {
      "cell_type": "markdown",
      "metadata": {
        "id": "hmm8cPI4zIG1"
      },
      "source": [
        "Podemos obtener el tema de cada archivo"
      ]
    },
    {
      "cell_type": "code",
      "execution_count": null,
      "metadata": {
        "id": "rsJFxxsWxC4L"
      },
      "outputs": [],
      "source": [
        "reuters.categories('test/14826')"
      ]
    },
    {
      "cell_type": "code",
      "execution_count": null,
      "metadata": {
        "id": "V4wqHklNyM2T"
      },
      "outputs": [],
      "source": [
        "fileids = reuters.fileids()\n",
        "\n",
        "for fileid in fileids[:5]:\n",
        "    print(reuters.categories(fileid))\n",
        "    print(reuters.raw(fileid)[:200],end=\"...\\n\\n\")"
      ]
    },
    {
      "cell_type": "markdown",
      "metadata": {
        "id": "xAft7Tzw04Yt"
      },
      "source": [
        "Podemos ver los documentos que tienen que ver con un tema"
      ]
    },
    {
      "cell_type": "code",
      "execution_count": null,
      "metadata": {
        "id": "PxNXosRS0z0z"
      },
      "outputs": [],
      "source": [
        "reuters.fileids('corn')[:10]"
      ]
    },
    {
      "cell_type": "markdown",
      "metadata": {
        "id": "l4Z42F4S3ALi"
      },
      "source": [
        "### Crear el modelo de lenguaje"
      ]
    },
    {
      "cell_type": "markdown",
      "metadata": {
        "id": "h8BRiRgPFkzT"
      },
      "source": [
        "Tokenizamos el texto usando NLTK"
      ]
    },
    {
      "cell_type": "code",
      "execution_count": 3,
      "metadata": {
        "id": "eGvA6avC_Cc5"
      },
      "outputs": [],
      "source": [
        "words = nltk.word_tokenize(' '.join(reuters.words()))"
      ]
    },
    {
      "cell_type": "markdown",
      "metadata": {
        "id": "wFUh7t8P-MsV"
      },
      "source": [
        "También podríamos tokenizar el texto quitando signos de puntuación."
      ]
    },
    {
      "cell_type": "code",
      "execution_count": 4,
      "metadata": {
        "id": "Mm8eHcPwh-qm"
      },
      "outputs": [],
      "source": [
        "punctuations = list(punctuation)\n",
        "\n",
        "words = [t for t in nltk.word_tokenize(' '.join(reuters.words())) if t not in punctuations]"
      ]
    },
    {
      "cell_type": "markdown",
      "metadata": {
        "id": "DeefiltmFnMj"
      },
      "source": [
        "Extraemos los trigramas\n",
        "\n",
        "https://www.nltk.org/api/nltk.util.html#nltk.util.trigrams"
      ]
    },
    {
      "cell_type": "code",
      "execution_count": 5,
      "metadata": {
        "id": "I9TRx0M0_HOX"
      },
      "outputs": [],
      "source": [
        "tri_grams = list(trigrams(words))"
      ]
    },
    {
      "cell_type": "markdown",
      "metadata": {
        "id": "guJQeFgzFqRG"
      },
      "source": [
        "Veamos los primero trigramas"
      ]
    },
    {
      "cell_type": "code",
      "execution_count": null,
      "metadata": {
        "id": "GZ3zmb_1_JUM"
      },
      "outputs": [],
      "source": [
        "print(tri_grams[:10])"
      ]
    },
    {
      "cell_type": "markdown",
      "metadata": {
        "id": "t9b_b9LuFsyE"
      },
      "source": [
        "Realicemos los conteos. Los almacenamos en un diccionario donde cada llave es un par (las primeras dos palabras del trigrama) y el valor es un diccionario con el conteo de cada tercer palabra.\n",
        "\n",
        "Usamos un [`defaultdict`](https://docs.python.org/3/library/collections.html#collections.defaultdict) para almacenar estos conteos. En caso de que una tripleta no exista, tendremos el valor 0."
      ]
    },
    {
      "cell_type": "code",
      "execution_count": null,
      "metadata": {
        "id": "HzQGoekZAAZ4"
      },
      "outputs": [],
      "source": [
        "model = defaultdict(lambda: defaultdict(lambda: 0)) # Valor por defecto si el trigrama no existe\n",
        "print(model)\n",
        "\n",
        "for w1, w2, w3 in tri_grams:\n",
        "    model[(w1, w2)][w3] += 1\n",
        "    break\n",
        "\n",
        "model"
      ]
    },
    {
      "cell_type": "markdown",
      "metadata": {
        "id": "UuwgLg5QAwyp"
      },
      "source": [
        "Veamos cómo se ve este diccionario:"
      ]
    },
    {
      "cell_type": "code",
      "execution_count": null,
      "metadata": {
        "id": "emRIZmvyAbsa"
      },
      "outputs": [],
      "source": [
        "model[('ASIAN','EXPORTERS')]"
      ]
    },
    {
      "cell_type": "code",
      "execution_count": null,
      "metadata": {
        "id": "mFQa7E4ZApDx"
      },
      "outputs": [],
      "source": [
        "model[('ASIAN','EXPORTERS')]['FEAR']"
      ]
    },
    {
      "cell_type": "markdown",
      "metadata": {
        "id": "J5je1JUt9WOI"
      },
      "source": [
        "En caso de que no exista el trigrama con la tercera palabra:"
      ]
    },
    {
      "cell_type": "code",
      "execution_count": null,
      "metadata": {
        "id": "97ReaBJK9QuE"
      },
      "outputs": [],
      "source": [
        "model[('ASIAN','EXPORTERS')]['UNIVERSITY']"
      ]
    },
    {
      "cell_type": "markdown",
      "metadata": {
        "id": "B-k8iGkU9Z1d"
      },
      "source": [
        "En caso de que no exista el trigrama con la pareja de las primeras dos palabras"
      ]
    },
    {
      "cell_type": "code",
      "execution_count": null,
      "metadata": {
        "id": "hfP7tUasAgnq"
      },
      "outputs": [],
      "source": [
        "model[('STATE','OF')]"
      ]
    },
    {
      "cell_type": "markdown",
      "metadata": {
        "id": "kVzu_hAZ9kY9"
      },
      "source": [
        "Ahora sí generamos todos los conteos"
      ]
    },
    {
      "cell_type": "code",
      "execution_count": 6,
      "metadata": {
        "id": "SiU7UvFrA2u3"
      },
      "outputs": [],
      "source": [
        "model = defaultdict(lambda: defaultdict(lambda: 0)) # Valor por defecto si el trigrama no existe\n",
        "\n",
        "for w1, w2, w3 in tri_grams:\n",
        "    model[(w1, w2)][w3] += 1"
      ]
    },
    {
      "cell_type": "code",
      "execution_count": null,
      "metadata": {
        "id": "vAOAo-3HAoEV"
      },
      "outputs": [],
      "source": [
        "print(model[('STATE','OF')]['THE'])\n",
        "print(model[('ASIAN','EXPORTERS')]['FEAR'])"
      ]
    },
    {
      "cell_type": "markdown",
      "metadata": {
        "id": "-_-a3WvhFv_3"
      },
      "source": [
        "Para entender cómo funciona la función siguiente, veamos que, en caso de no existir el trigrama podemos tratarlo como un booleano."
      ]
    },
    {
      "cell_type": "markdown",
      "metadata": {
        "id": "MiGZaDyzA8HI"
      },
      "source": [
        "Transformamos los conteos en probabilidades"
      ]
    },
    {
      "cell_type": "code",
      "execution_count": 7,
      "metadata": {
        "id": "E4bQMmJ-A_MF"
      },
      "outputs": [],
      "source": [
        "for w1_w2 in model:\n",
        "    total_count = float(sum(model[w1_w2].values()))\n",
        "    for w3 in model[w1_w2]:\n",
        "        model[w1_w2][w3] /= total_count"
      ]
    },
    {
      "cell_type": "markdown",
      "metadata": {
        "id": "m-zLHLCIBqxT"
      },
      "source": [
        "Veamos un ejemplo:"
      ]
    },
    {
      "cell_type": "code",
      "execution_count": null,
      "metadata": {
        "id": "58BTnIplBgHQ"
      },
      "outputs": [],
      "source": [
        "model[('given','that')]"
      ]
    },
    {
      "cell_type": "code",
      "execution_count": null,
      "metadata": {
        "id": "DWgQFSahC4wz"
      },
      "outputs": [],
      "source": [
        "# Para un trigrama que no exista\n",
        "v = model[('DREAM','ABOUT')]  # diccionario con las posibles combinaciones de cada tercer palabra con las primeras dos\n",
        "print(v)\n",
        "if v:\n",
        "    print(\"True\")\n",
        "else:\n",
        "    print(\"False\")\n",
        "\n",
        "# Para un trigrama que sí exista\n",
        "v = model['ASIAN','EXPORTERS']\n",
        "print(v)\n",
        "if v:\n",
        "    print(\"True\")\n",
        "else:\n",
        "    print(\"False\")"
      ]
    },
    {
      "cell_type": "markdown",
      "metadata": {
        "id": "Dcy4eXNCmva0"
      },
      "source": [
        "### Probemos el modelo en varias tareas:"
      ]
    },
    {
      "cell_type": "markdown",
      "metadata": {
        "id": "7eeilZ1rBCut"
      },
      "source": [
        "Función que calcula la próxima palabra basada en dos palabras anteriores"
      ]
    },
    {
      "cell_type": "code",
      "execution_count": 8,
      "metadata": {
        "id": "AvpS0Od25tV9"
      },
      "outputs": [],
      "source": [
        "def predict_next_word(w1, w2):\n",
        "    next_word = model[w1, w2]  # El diccionario de la probabilidad de cada 3er palabra\n",
        "    if next_word:\n",
        "        predicted_word = max(next_word, key=next_word.get)  # Obtener la palabra más probable\n",
        "        return predicted_word\n",
        "    else:\n",
        "        return \"SIN PREDICCIÓN\""
      ]
    },
    {
      "cell_type": "code",
      "execution_count": 9,
      "metadata": {
        "colab": {
          "base_uri": "https://localhost:8080/"
        },
        "id": "wS3Gc1IBCBDX",
        "outputId": "722913a4-4298-445e-8daf-f8cde89c85eb"
      },
      "outputs": [
        {
          "name": "stdout",
          "output_type": "stream",
          "text": [
            "Siguiente palabra para 'the'-'stock': 'of'\n"
          ]
        }
      ],
      "source": [
        "print(f\"Siguiente palabra para 'the'-'stock': '{predict_next_word('the', 'stock')}'\")"
      ]
    },
    {
      "cell_type": "code",
      "execution_count": null,
      "metadata": {
        "id": "Fzt9tEEc5_gH"
      },
      "outputs": [],
      "source": [
        "text = \"the state of\"\n",
        "# text = \"ASIAN EXPORTERS FEAR DAMAGE\"\n",
        "# text = \"We are considering\"\n",
        "# text = \"Given the current\"\n",
        "\n",
        "w0 = text.split()[-2]\n",
        "w1 = text.split()[-1]\n",
        "print(f\"Siguiente palabra para '{w0}'-'{w1}': '{predict_next_word(text.split()[-2], text.split()[-1])}'\")"
      ]
    },
    {
      "cell_type": "code",
      "execution_count": null,
      "metadata": {
        "id": "YH9ItY4vE3y9"
      },
      "outputs": [],
      "source": [
        "import string\n",
        "\n",
        "punctuations = list(string.punctuation)\n",
        "\n",
        "def evaluar(text,model):\n",
        "    tokenized_text = [t for t in nltk.word_tokenize(text) if t not in punctuations]\n",
        "    aciertos = 0\n",
        "    for j,t in enumerate(tokenized_text):\n",
        "        if j != 0 and j<len(tokenized_text)-1:\n",
        "            previous_word = tokenized_text[j-1]\n",
        "            this_word = t\n",
        "            next_word = tokenized_text[j+1]\n",
        "            print(f\"Predicción para '{previous_word}'-'{this_word}': '{predict_next_word(previous_word, this_word)}'. Debería ser: '{next_word}'\")\n",
        "            if predict_next_word(previous_word, this_word) == next_word:\n",
        "                aciertos += 1\n",
        "    print(f\"\\nAciertos: {aciertos}/{len(tokenized_text)-2} = {round(100*aciertos/(len(tokenized_text)-2),2)}%\")"
      ]
    },
    {
      "cell_type": "markdown",
      "metadata": {
        "id": "D-zbNkvZYb4l"
      },
      "source": [
        "Probemos con un texto pequeño."
      ]
    },
    {
      "cell_type": "code",
      "execution_count": null,
      "metadata": {
        "id": "t9QNbZayCw3W"
      },
      "outputs": [],
      "source": [
        "from nltk.corpus import stopwords\n",
        "\n",
        "text = \"The Ottomans kept them as guardians of the strategic Via Maris and Damascus–Jerusalem highways and rewarded them with tax farms\"\n",
        "\n",
        "evaluar(text,model)"
      ]
    },
    {
      "cell_type": "markdown",
      "metadata": {
        "id": "Ssv7khWjYfAq"
      },
      "source": [
        "Probemos con un texto más grande:"
      ]
    },
    {
      "cell_type": "markdown",
      "metadata": {
        "id": "rfClxTslJCOh"
      },
      "source": [
        "---\n",
        "\n",
        "Norwich Market (also known as Norwich Provision Market) is an outdoor market consisting of around 200 stalls in central Norwich, England. Founded in the latter part of the 11th century to supply Norman merchants and settlers moving to the area following the Norman conquest of England, it replaced an earlier market a short distance away. It has been in operation on the present site for over 900 years.\n",
        "\n",
        "By the 14th century, Norwich was one of the largest and most prosperous cities in England, and Norwich Market was a major trading hub. Control of, and income from, the market was ceded by the monarchy to the city of Norwich in 1341, from which time it provided a significant source of income for the local council. Freed from royal control, the market was reorganised to benefit the city as much as possible. Norwich and the surrounding region were devastated by plague and famine in the latter half of the 14th century, with the population falling by over 50%. Following the plague years, Norwich came under the control of local merchants and the economy was rebuilt. In the early 15th century, a Guildhall was built next to the market to serve as a centre for local government and law enforcement. The largest surviving mediaeval civic building in Britain outside London, it remained the seat of local government until 1938 and in use as a law court until 1985.\n",
        "\n",
        "---"
      ]
    },
    {
      "cell_type": "code",
      "execution_count": null,
      "metadata": {
        "id": "G_pOLWSUFKKZ"
      },
      "outputs": [],
      "source": [
        "text = '''Norwich Market (also known as Norwich Provision Market) is an outdoor market consisting of around 200 stalls in central Norwich, England. Founded in the latter part of the 11th century to supply Norman merchants and settlers moving to the area following the Norman conquest of England, it replaced an earlier market a short distance away. It has been in operation on the present site for over 900 years.\n",
        "\n",
        "By the 14th century, Norwich was one of the largest and most prosperous cities in England, and Norwich Market was a major trading hub. Control of, and income from, the market was ceded by the monarchy to the city of Norwich in 1341, from which time it provided a significant source of income for the local council. Freed from royal control, the market was reorganised to benefit the city as much as possible. Norwich and the surrounding region were devastated by plague and famine in the latter half of the 14th century, with the population falling by over 50%. Following the plague years, Norwich came under the control of local merchants and the economy was rebuilt. In the early 15th century, a Guildhall was built next to the market to serve as a centre for local government and law enforcement. The largest surviving mediaeval civic building in Britain outside London, it remained the seat of local government until 1938 and in use as a law court until 1985. '''\n",
        "\n",
        "evaluar(text,model)"
      ]
    },
    {
      "cell_type": "markdown",
      "metadata": {
        "id": "_3Q0YFOwYjPC"
      },
      "source": [
        "Probemos con un texto del mismo corpus:"
      ]
    },
    {
      "cell_type": "code",
      "execution_count": null,
      "metadata": {
        "colab": {
          "base_uri": "https://localhost:8080/"
        },
        "id": "MA1T48lFUGQy",
        "outputId": "2e9b5cd9-c7ca-4ae0-c885-b953a9ae8527"
      },
      "outputs": [
        {
          "name": "stdout",
          "output_type": "stream",
          "text": [
            "Predicción para 'ASIAN'-'EXPORTERS': 'FEAR'. Debería ser: 'FEAR'\n",
            "Predicción para 'EXPORTERS'-'FEAR': 'DAMAGE'. Debería ser: 'DAMAGE'\n",
            "Predicción para 'FEAR'-'DAMAGE': 'FROM'. Debería ser: 'FROM'\n",
            "Predicción para 'DAMAGE'-'FROM': 'U'. Debería ser: 'U.S.-JAPAN'\n",
            "Predicción para 'FROM'-'U.S.-JAPAN': 'SIN PREDICCIÓN'. Debería ser: 'RIFT'\n",
            "Predicción para 'U.S.-JAPAN'-'RIFT': 'SIN PREDICCIÓN'. Debería ser: 'Mounting'\n",
            "Predicción para 'RIFT'-'Mounting': 'trade'. Debería ser: 'trade'\n",
            "Predicción para 'Mounting'-'trade': 'friction'. Debería ser: 'friction'\n",
            "Predicción para 'trade'-'friction': 'and'. Debería ser: 'between'\n",
            "Predicción para 'friction'-'between': 'the'. Debería ser: 'the'\n",
            "Predicción para 'between'-'the': 'two'. Debería ser: 'U.S.'\n",
            "Predicción para 'the'-'U.S.': 'SIN PREDICCIÓN'. Debería ser: 'And'\n",
            "Predicción para 'U.S.'-'And': 'SIN PREDICCIÓN'. Debería ser: 'Japan'\n",
            "Predicción para 'And'-'Japan': 'will'. Debería ser: 'has'\n",
            "Predicción para 'Japan'-'has': 'the'. Debería ser: 'raised'\n",
            "Predicción para 'has'-'raised': 'its'. Debería ser: 'fears'\n",
            "Predicción para 'raised'-'fears': 'among'. Debería ser: 'among'\n",
            "Predicción para 'fears'-'among': 'many'. Debería ser: 'many'\n",
            "Predicción para 'among'-'many': 'of'. Debería ser: 'of'\n",
            "Predicción para 'many'-'of': 'the'. Debería ser: 'Asia'\n",
            "Predicción para 'of'-'Asia': '''. Debería ser: ''s'\n",
            "Predicción para 'Asia'-''s': 'SIN PREDICCIÓN'. Debería ser: 'exporting'\n",
            "Predicción para ''s'-'exporting': 'SIN PREDICCIÓN'. Debería ser: 'nations'\n",
            "Predicción para 'exporting'-'nations': 'that'. Debería ser: 'that'\n",
            "Predicción para 'nations'-'that': 'have'. Debería ser: 'the'\n",
            "Predicción para 'that'-'the': 'U'. Debería ser: 'row'\n",
            "Predicción para 'the'-'row': '.'. Debería ser: 'could'\n",
            "Predicción para 'row'-'could': 'inflict'. Debería ser: 'inflict'\n",
            "Predicción para 'could'-'inflict': 'far'. Debería ser: 'far-reaching'\n",
            "Predicción para 'inflict'-'far-reaching': 'SIN PREDICCIÓN'. Debería ser: 'economic'\n",
            "Predicción para 'far-reaching'-'economic': 'SIN PREDICCIÓN'. Debería ser: 'damage'\n",
            "Predicción para 'economic'-'damage': ','. Debería ser: 'businessmen'\n",
            "Predicción para 'damage'-'businessmen': 'SIN PREDICCIÓN'. Debería ser: 'and'\n",
            "Predicción para 'businessmen'-'and': 'officials'. Debería ser: 'officials'\n",
            "Predicción para 'and'-'officials': 'said'. Debería ser: 'said'\n",
            "Predicción para 'officials'-'said': '.'. Debería ser: 'They'\n",
            "Predicción para 'said'-'They': 'SIN PREDICCIÓN'. Debería ser: 'told'\n",
            "Predicción para 'They'-'told': 'Reuters'. Debería ser: 'Reuter'\n",
            "Predicción para 'told'-'Reuter': 'correspondents'. Debería ser: 'correspondents'\n",
            "Predicción para 'Reuter'-'correspondents': '.'. Debería ser: 'in'\n",
            "Predicción para 'correspondents'-'in': 'Asian'. Debería ser: 'Asian'\n",
            "Predicción para 'in'-'Asian': 'markets'. Debería ser: 'capitals'\n",
            "Predicción para 'Asian'-'capitals': 'a'. Debería ser: 'a'\n",
            "Predicción para 'capitals'-'a': 'U'. Debería ser: 'U.S.'\n",
            "Predicción para 'a'-'U.S.': 'SIN PREDICCIÓN'. Debería ser: 'Move'\n",
            "Predicción para 'U.S.'-'Move': 'SIN PREDICCIÓN'. Debería ser: 'against'\n",
            "Predicción para 'Move'-'against': 'Japan'. Debería ser: 'Japan'\n",
            "Predicción para 'against'-'Japan': 'for'. Debería ser: 'might'\n",
            "Predicción para 'Japan'-'might': 'boost'. Debería ser: 'boost'\n",
            "Predicción para 'might'-'boost': 'protectionist'. Debería ser: 'protectionist'\n",
            "Predicción para 'boost'-'protectionist': 'sentiment'. Debería ser: 'sentiment'\n",
            "Predicción para 'protectionist'-'sentiment': 'in'. Debería ser: 'in'\n",
            "Predicción para 'sentiment'-'in': 'the'. Debería ser: 'the'\n",
            "Predicción para 'in'-'the': 'first'. Debería ser: 'U.S.'\n",
            "Predicción para 'the'-'U.S.': 'SIN PREDICCIÓN'. Debería ser: 'And'\n",
            "Predicción para 'U.S.'-'And': 'SIN PREDICCIÓN'. Debería ser: 'lead'\n",
            "Predicción para 'And'-'lead': 'to'. Debería ser: 'to'\n",
            "Predicción para 'lead'-'to': 'a'. Debería ser: 'curbs'\n",
            "Predicción para 'to'-'curbs': 'on'. Debería ser: 'on'\n",
            "Predicción para 'curbs'-'on': 'U'. Debería ser: 'American'\n",
            "Predicción para 'on'-'American': 'imports'. Debería ser: 'imports'\n",
            "Predicción para 'American'-'imports': 'of'. Debería ser: 'of'\n",
            "Predicción para 'imports'-'of': 'U'. Debería ser: 'their'\n",
            "Predicción para 'of'-'their': 'own'. Debería ser: 'products'\n",
            "Predicción para 'their'-'products': ','. Debería ser: 'But'\n",
            "Predicción para 'products'-'But': 'SIN PREDICCIÓN'. Debería ser: 'some'\n",
            "Predicción para 'But'-'some': 'analysts'. Debería ser: 'exporters'\n",
            "Predicción para 'some'-'exporters': 'were'. Debería ser: 'said'\n",
            "Predicción para 'exporters'-'said': '.'. Debería ser: 'that'\n",
            "Predicción para 'said'-'that': 'the'. Debería ser: 'while'\n",
            "Predicción para 'that'-'while': 'the'. Debería ser: 'the'\n",
            "Predicción para 'while'-'the': 'four'. Debería ser: 'conflict'\n",
            "Predicción para 'the'-'conflict': 'would'. Debería ser: 'would'\n",
            "Predicción para 'conflict'-'would': 'hurt'. Debería ser: 'hurt'\n",
            "Predicción para 'would'-'hurt': 'the'. Debería ser: 'them'\n",
            "Predicción para 'hurt'-'them': 'in'. Debería ser: 'in'\n",
            "Predicción para 'them'-'in': 'the'. Debería ser: 'the'\n",
            "Predicción para 'in'-'the': 'first'. Debería ser: 'long-run'\n",
            "Predicción para 'the'-'long-run': 'SIN PREDICCIÓN'. Debería ser: 'in'\n",
            "Predicción para 'long-run'-'in': 'SIN PREDICCIÓN'. Debería ser: 'the'\n",
            "Predicción para 'in'-'the': 'first'. Debería ser: 'short-term'\n",
            "Predicción para 'the'-'short-term': 'SIN PREDICCIÓN'. Debería ser: 'Tokyo'\n",
            "Predicción para 'short-term'-'Tokyo': 'SIN PREDICCIÓN'. Debería ser: ''s'\n",
            "Predicción para 'Tokyo'-''s': 'SIN PREDICCIÓN'. Debería ser: 'loss'\n",
            "Predicción para ''s'-'loss': 'SIN PREDICCIÓN'. Debería ser: 'might'\n",
            "Predicción para 'loss'-'might': 'be'. Debería ser: 'be'\n",
            "Predicción para 'might'-'be': 'a'. Debería ser: 'their'\n",
            "Predicción para 'be'-'their': 'gain'. Debería ser: 'gain'\n",
            "Predicción para 'their'-'gain': '.'. Debería ser: 'The'\n",
            "Predicción para 'gain'-'The': 'SIN PREDICCIÓN'. Debería ser: 'U.S.'\n",
            "Predicción para 'The'-'U.S.': 'SIN PREDICCIÓN'. Debería ser: 'Has'\n",
            "Predicción para 'U.S.'-'Has': 'SIN PREDICCIÓN'. Debería ser: 'said'\n",
            "Predicción para 'Has'-'said': 'it'. Debería ser: 'it'\n",
            "Predicción para 'said'-'it': 'has'. Debería ser: 'will'\n",
            "Predicción para 'it'-'will': 'be'. Debería ser: 'impose'\n",
            "Predicción para 'will'-'impose': '300'. Debería ser: '300'\n",
            "Predicción para 'impose'-'300': 'mln'. Debería ser: 'mln'\n",
            "Predicción para '300'-'mln': 'dlrs'. Debería ser: 'dlrs'\n",
            "Predicción para 'mln'-'dlrs': 'in'. Debería ser: 'of'\n",
            "Predicción para 'dlrs'-'of': 'customer'. Debería ser: 'tariffs'\n",
            "Predicción para 'of'-'tariffs': 'on'. Debería ser: 'on'\n",
            "Predicción para 'tariffs'-'on': 'Japanese'. Debería ser: 'imports'\n",
            "Predicción para 'on'-'imports': 'of'. Debería ser: 'of'\n",
            "Predicción para 'imports'-'of': 'U'. Debería ser: 'Japanese'\n",
            "Predicción para 'of'-'Japanese': 'goods'. Debería ser: 'electronics'\n",
            "Predicción para 'Japanese'-'electronics': 'goods'. Debería ser: 'goods'\n",
            "Predicción para 'electronics'-'goods': 'on'. Debería ser: 'on'\n",
            "Predicción para 'goods'-'on': 'April'. Debería ser: 'April'\n",
            "Predicción para 'on'-'April': '1'. Debería ser: '17'\n",
            "Predicción para 'April'-'17': '.'. Debería ser: 'in'\n",
            "Predicción para '17'-'in': 'retaliation'. Debería ser: 'retaliation'\n",
            "Predicción para 'in'-'retaliation': 'for'. Debería ser: 'for'\n",
            "Predicción para 'retaliation'-'for': 'Japan'. Debería ser: 'Japan'\n",
            "Predicción para 'for'-'Japan': '''. Debería ser: ''s'\n",
            "Predicción para 'Japan'-''s': 'SIN PREDICCIÓN'. Debería ser: 'alleged'\n",
            "Predicción para ''s'-'alleged': 'SIN PREDICCIÓN'. Debería ser: 'failure'\n",
            "Predicción para 'alleged'-'failure': 'to'. Debería ser: 'to'\n",
            "Predicción para 'failure'-'to': 'live'. Debería ser: 'stick'\n",
            "Predicción para 'to'-'stick': 'to'. Debería ser: 'to'\n",
            "Predicción para 'stick'-'to': 'the'. Debería ser: 'a'\n",
            "Predicción para 'to'-'a': 'record'. Debería ser: 'pact'\n",
            "Predicción para 'a'-'pact': 'on'. Debería ser: 'not'\n",
            "Predicción para 'pact'-'not': 'to'. Debería ser: 'to'\n",
            "Predicción para 'not'-'to': 'be'. Debería ser: 'sell'\n",
            "Predicción para 'to'-'sell': 'its'. Debería ser: 'semiconductors'\n",
            "Predicción para 'sell'-'semiconductors': 'on'. Debería ser: 'on'\n",
            "Predicción para 'semiconductors'-'on': 'the'. Debería ser: 'world'\n",
            "Predicción para 'on'-'world': 'markets'. Debería ser: 'markets'\n",
            "Predicción para 'world'-'markets': 'and'. Debería ser: 'at'\n",
            "Predicción para 'markets'-'at': 'less'. Debería ser: 'below'\n",
            "Predicción para 'at'-'below': 'cost'. Debería ser: 'cost'\n",
            "Predicción para 'below'-'cost': 'in'. Debería ser: 'Unofficial'\n",
            "Predicción para 'cost'-'Unofficial': 'SIN PREDICCIÓN'. Debería ser: 'Japanese'\n",
            "Predicción para 'Unofficial'-'Japanese': 'estimates'. Debería ser: 'estimates'\n",
            "Predicción para 'Japanese'-'estimates': 'put'. Debería ser: 'put'\n",
            "Predicción para 'estimates'-'put': 'the'. Debería ser: 'the'\n",
            "Predicción para 'put'-'the': 'total'. Debería ser: 'impact'\n",
            "Predicción para 'the'-'impact': 'of'. Debería ser: 'of'\n",
            "Predicción para 'impact'-'of': 'the'. Debería ser: 'the'\n",
            "Predicción para 'of'-'the': 'company'. Debería ser: 'tariffs'\n",
            "Predicción para 'the'-'tariffs': 'on'. Debería ser: 'at'\n",
            "Predicción para 'tariffs'-'at': '10'. Debería ser: '10'\n",
            "Predicción para 'at'-'10': '-'. Debería ser: 'billion'\n",
            "Predicción para '10'-'billion': 'dlrs'. Debería ser: 'dlrs'\n",
            "Predicción para 'billion'-'dlrs': 'in'. Debería ser: 'and'\n",
            "Predicción para 'dlrs'-'and': 'a'. Debería ser: 'spokesmen'\n",
            "Predicción para 'and'-'spokesmen': 'for'. Debería ser: 'for'\n",
            "Predicción para 'spokesmen'-'for': 'the'. Debería ser: 'major'\n",
            "Predicción para 'for'-'major': 'importers'. Debería ser: 'electronics'\n",
            "Predicción para 'major'-'electronics': 'firms'. Debería ser: 'firms'\n",
            "Predicción para 'electronics'-'firms': 'said'. Debería ser: 'said'\n",
            "Predicción para 'firms'-'said': 'they'. Debería ser: 'they'\n",
            "Predicción para 'said'-'they': 'were'. Debería ser: 'would'\n",
            "Predicción para 'they'-'would': 'not'. Debería ser: 'virtually'\n",
            "Predicción para 'would'-'virtually': 'halt'. Debería ser: 'halt'\n",
            "Predicción para 'virtually'-'halt': 'exports'. Debería ser: 'exports'\n",
            "Predicción para 'halt'-'exports': 'of'. Debería ser: 'of'\n",
            "Predicción para 'exports'-'of': 'non'. Debería ser: 'products'\n",
            "Predicción para 'of'-'products': ','. Debería ser: 'hit'\n",
            "Predicción para 'products'-'hit': 'by'. Debería ser: 'by'\n",
            "Predicción para 'hit'-'by': 'the'. Debería ser: 'the'\n",
            "Predicción para 'by'-'the': 'end'. Debería ser: 'new'\n",
            "Predicción para 'the'-'new': 'company'. Debería ser: 'taxes'\n",
            "Predicción para 'new'-'taxes': '.'. Debería ser: '``'\n",
            "Predicción para 'taxes'-'``': 'SIN PREDICCIÓN'. Debería ser: 'We'\n",
            "Predicción para '``'-'We': 'have'. Debería ser: 'would'\n",
            "Predicción para 'We'-'would': 'like'. Debería ser: 'n't'\n",
            "Predicción para 'would'-'n't': 'SIN PREDICCIÓN'. Debería ser: 'be'\n",
            "Predicción para 'n't'-'be': 'SIN PREDICCIÓN'. Debería ser: 'able'\n",
            "Predicción para 'be'-'able': 'to'. Debería ser: 'to'\n",
            "Predicción para 'able'-'to': 'buy'. Debería ser: 'do'\n",
            "Predicción para 'to'-'do': 'so'. Debería ser: 'business'\n",
            "Predicción para 'do'-'business': 'with'. Debería ser: ''''\n",
            "Predicción para 'business'-'''': 'SIN PREDICCIÓN'. Debería ser: 'said'\n",
            "Predicción para ''''-'said': 'one'. Debería ser: 'a'\n",
            "Predicción para 'said'-'a': 'new'. Debería ser: 'spokesman'\n",
            "Predicción para 'a'-'spokesman': 'for'. Debería ser: 'for'\n",
            "Predicción para 'spokesman'-'for': 'the'. Debería ser: 'leading'\n",
            "Predicción para 'for'-'leading': 'Japanese'. Debería ser: 'Japanese'\n",
            "Predicción para 'leading'-'Japanese': 'businessman'. Debería ser: 'electronics'\n",
            "Predicción para 'Japanese'-'electronics': 'goods'. Debería ser: 'firm'\n",
            "Predicción para 'electronics'-'firm': 'Matsushita'. Debería ser: 'Matsushita'\n",
            "Predicción para 'firm'-'Matsushita': 'Electric'. Debería ser: 'Electric'\n",
            "Predicción para 'Matsushita'-'Electric': 'Industrial'. Debería ser: 'Industrial'\n",
            "Predicción para 'Electric'-'Industrial': 'Co'. Debería ser: 'Co'\n",
            "Predicción para 'Industrial'-'Co': 'Ltd'. Debería ser: 'Ltd'\n",
            "Predicción para 'Co'-'Ltd': '&'. Debería ser: 'lt'\n",
            "Predicción para 'Ltd'-'lt': 'SIN PREDICCIÓN'. Debería ser: 'MC.T'\n",
            "Predicción para 'lt'-'MC.T': 'SIN PREDICCIÓN'. Debería ser: '``'\n",
            "Predicción para 'MC.T'-'``': 'SIN PREDICCIÓN'. Debería ser: 'If'\n",
            "Predicción para '``'-'If': 'the'. Debería ser: 'the'\n",
            "Predicción para 'If'-'the': 'dollar'. Debería ser: 'tariffs'\n",
            "Predicción para 'the'-'tariffs': 'on'. Debería ser: 'remain'\n",
            "Predicción para 'tariffs'-'remain': 'in'. Debería ser: 'in'\n",
            "Predicción para 'remain'-'in': 'place'. Debería ser: 'place'\n",
            "Predicción para 'in'-'place': '.'. Debería ser: 'for'\n",
            "Predicción para 'place'-'for': 'any'. Debería ser: 'any'\n",
            "Predicción para 'for'-'any': 'further'. Debería ser: 'length'\n",
            "Predicción para 'any'-'length': 'of'. Debería ser: 'of'\n",
            "Predicción para 'length'-'of': 'time'. Debería ser: 'time'\n",
            "Predicción para 'of'-'time': '.'. Debería ser: 'beyond'\n",
            "Predicción para 'time'-'beyond': 'a'. Debería ser: 'a'\n",
            "Predicción para 'beyond'-'a': 'few'. Debería ser: 'few'\n",
            "Predicción para 'a'-'few': 'weeks'. Debería ser: 'months'\n",
            "Predicción para 'few'-'months': '.'. Debería ser: 'it'\n",
            "Predicción para 'months'-'it': 'will'. Debería ser: 'will'\n",
            "Predicción para 'it'-'will': 'be'. Debería ser: 'mean'\n",
            "Predicción para 'will'-'mean': 'more'. Debería ser: 'the'\n",
            "Predicción para 'mean'-'the': 'end'. Debería ser: 'complete'\n",
            "Predicción para 'the'-'complete': 'erosion'. Debería ser: 'erosion'\n",
            "Predicción para 'complete'-'erosion': 'of'. Debería ser: 'of'\n",
            "Predicción para 'erosion'-'of': 'exports'. Debería ser: 'exports'\n",
            "Predicción para 'of'-'exports': 'and'. Debería ser: 'of'\n",
            "Predicción para 'exports'-'of': 'non'. Debería ser: 'goods'\n",
            "Predicción para 'of'-'goods': 'and'. Debería ser: 'subject'\n",
            "Predicción para 'goods'-'subject': 'to'. Debería ser: 'to'\n",
            "Predicción para 'subject'-'to': 'approval'. Debería ser: 'tariffs'\n",
            "Predicción para 'to'-'tariffs': ')'. Debería ser: 'to'\n",
            "Predicción para 'tariffs'-'to': 'take'. Debería ser: 'the'\n",
            "Predicción para 'to'-'the': 'U'. Debería ser: 'U.S.'\n",
            "Predicción para 'the'-'U.S.': 'SIN PREDICCIÓN'. Debería ser: ''''\n",
            "Predicción para 'U.S.'-'''': 'SIN PREDICCIÓN'. Debería ser: 'said'\n",
            "Predicción para ''''-'said': 'one'. Debería ser: 'Tom'\n",
            "Predicción para 'said'-'Tom': 'Murtha'. Debería ser: 'Murtha'\n",
            "Predicción para 'Tom'-'Murtha': ','. Debería ser: 'a'\n",
            "Predicción para 'Murtha'-'a': 'SIN PREDICCIÓN'. Debería ser: 'stock'\n",
            "Predicción para 'a'-'stock': 'dividend'. Debería ser: 'analyst'\n",
            "Predicción para 'stock'-'analyst': 'at'. Debería ser: 'at'\n",
            "Predicción para 'analyst'-'at': 'Salomon'. Debería ser: 'the'\n",
            "Predicción para 'at'-'the': 'end'. Debería ser: 'Tokyo'\n",
            "Predicción para 'the'-'Tokyo': 'market'. Debería ser: 'office'\n",
            "Predicción para 'Tokyo'-'office': 'of'. Debería ser: 'of'\n",
            "Predicción para 'office'-'of': 'the'. Debería ser: 'broker'\n",
            "Predicción para 'of'-'broker': '&'. Debería ser: 'lt'\n",
            "Predicción para 'broker'-'lt': 'SIN PREDICCIÓN'. Debería ser: 'James'\n",
            "Predicción para 'lt'-'James': 'SIN PREDICCIÓN'. Debería ser: 'Capel'\n",
            "Predicción para 'James'-'Capel': 'and'. Debería ser: 'and'\n",
            "Predicción para 'Capel'-'and': 'Co'. Debería ser: 'Co'\n",
            "Predicción para 'and'-'Co': 'Inc'. Debería ser: 'In'\n",
            "Predicción para 'Co'-'In': 'SIN PREDICCIÓN'. Debería ser: 'Taiwan'\n",
            "Predicción para 'In'-'Taiwan': ','. Debería ser: 'businessmen'\n",
            "Predicción para 'Taiwan'-'businessmen': 'SIN PREDICCIÓN'. Debería ser: 'and'\n",
            "Predicción para 'businessmen'-'and': 'officials'. Debería ser: 'officials'\n",
            "Predicción para 'and'-'officials': 'said'. Debería ser: 'are'\n",
            "Predicción para 'officials'-'are': 'concerned'. Debería ser: 'also'\n",
            "Predicción para 'are'-'also': 'likely'. Debería ser: 'worried'\n",
            "Predicción para 'also'-'worried': '.'. Debería ser: '``'\n",
            "Predicción para 'worried'-'``': 'SIN PREDICCIÓN'. Debería ser: 'We'\n",
            "Predicción para '``'-'We': 'have'. Debería ser: 'are'\n",
            "Predicción para 'We'-'are': 'not'. Debería ser: 'aware'\n",
            "Predicción para 'are'-'aware': 'of'. Debería ser: 'of'\n",
            "Predicción para 'aware'-'of': 'the'. Debería ser: 'the'\n",
            "Predicción para 'of'-'the': 'company'. Debería ser: 'seriousness'\n",
            "Predicción para 'the'-'seriousness': 'of'. Debería ser: 'of'\n",
            "Predicción para 'seriousness'-'of': 'the'. Debería ser: 'the'\n",
            "Predicción para 'of'-'the': 'company'. Debería ser: 'U.S'\n",
            "Predicción para 'the'-'U.S': 'SIN PREDICCIÓN'. Debería ser: 'Threat'\n",
            "Predicción para 'U.S'-'Threat': 'SIN PREDICCIÓN'. Debería ser: 'against'\n",
            "Predicción para 'Threat'-'against': 'Japan'. Debería ser: 'Japan'\n",
            "Predicción para 'against'-'Japan': 'for'. Debería ser: 'because'\n",
            "Predicción para 'Japan'-'because': 'it'. Debería ser: 'it'\n",
            "Predicción para 'because'-'it': 'is'. Debería ser: 'serves'\n",
            "Predicción para 'it'-'serves': 'as'. Debería ser: 'as'\n",
            "Predicción para 'serves'-'as': 'a'. Debería ser: 'a'\n",
            "Predicción para 'as'-'a': 'result'. Debería ser: 'warning'\n",
            "Predicción para 'a'-'warning': 'to'. Debería ser: 'to'\n",
            "Predicción para 'warning'-'to': 'Japanese'. Debería ser: 'us'\n",
            "Predicción para 'to'-'us': ','. Debería ser: ''''\n",
            "Predicción para 'us'-'''': 'SIN PREDICCIÓN'. Debería ser: 'said'\n",
            "Predicción para ''''-'said': 'one'. Debería ser: 'a'\n",
            "Predicción para 'said'-'a': 'new'. Debería ser: 'senior'\n",
            "Predicción para 'a'-'senior': 'official'. Debería ser: 'Taiwanese'\n",
            "Predicción para 'senior'-'Taiwanese': 'trade'. Debería ser: 'trade'\n",
            "Predicción para 'Taiwanese'-'trade': 'official'. Debería ser: 'official'\n",
            "Predicción para 'trade'-'official': 'said'. Debería ser: 'who'\n",
            "Predicción para 'official'-'who': 'asked'. Debería ser: 'asked'\n",
            "Predicción para 'who'-'asked': 'not'. Debería ser: 'not'\n",
            "Predicción para 'asked'-'not': 'to'. Debería ser: 'to'\n",
            "Predicción para 'not'-'to': 'be'. Debería ser: 'be'\n",
            "Predicción para 'to'-'be': 'a'. Debería ser: 'named'\n",
            "Predicción para 'be'-'named': ','. Debería ser: 'Taiwan'\n",
            "Predicción para 'named'-'Taiwan': 'SIN PREDICCIÓN'. Debería ser: 'had'\n",
            "Predicción para 'Taiwan'-'had': 'a'. Debería ser: 'a'\n",
            "Predicción para 'had'-'a': 'trade'. Debería ser: 'trade'\n",
            "Predicción para 'a'-'trade': 'war'. Debería ser: 'trade'\n",
            "Predicción para 'trade'-'trade': 'surplus'. Debería ser: 'surplus'\n",
            "Predicción para 'trade'-'surplus': 'with'. Debería ser: 'of'\n",
            "Predicción para 'surplus'-'of': '1'. Debería ser: '15.6'\n",
            "Predicción para 'of'-'15.6': 'SIN PREDICCIÓN'. Debería ser: 'billion'\n",
            "Predicción para '15.6'-'billion': 'SIN PREDICCIÓN'. Debería ser: 'dlrs'\n",
            "Predicción para 'billion'-'dlrs': 'in'. Debería ser: 'last'\n",
            "Predicción para 'dlrs'-'last': 'year'. Debería ser: 'year'\n",
            "Predicción para 'last'-'year': '.'. Debería ser: '95'\n",
            "Predicción para 'year'-'95': 'SIN PREDICCIÓN'. Debería ser: 'pct'\n",
            "Predicción para '95'-'pct': 'of'. Debería ser: 'of'\n",
            "Predicción para 'pct'-'of': 'the'. Debería ser: 'it'\n",
            "Predicción para 'of'-'it': '.'. Debería ser: 'with'\n",
            "Predicción para 'it'-'with': 'the'. Debería ser: 'the'\n",
            "Predicción para 'with'-'the': 'Securities'. Debería ser: 'U.S'\n",
            "Predicción para 'the'-'U.S': 'SIN PREDICCIÓN'. Debería ser: 'The'\n",
            "Predicción para 'U.S'-'The': 'SIN PREDICCIÓN'. Debería ser: 'surplus'\n",
            "Predicción para 'The'-'surplus': 'on'. Debería ser: 'helped'\n",
            "Predicción para 'surplus'-'helped': 'swell'. Debería ser: 'swell'\n",
            "Predicción para 'helped'-'swell': 'Taiwan'. Debería ser: 'Taiwan'\n",
            "Predicción para 'swell'-'Taiwan': '''. Debería ser: ''s'\n",
            "Predicción para 'Taiwan'-''s': 'SIN PREDICCIÓN'. Debería ser: 'foreign'\n",
            "Predicción para ''s'-'foreign': 'SIN PREDICCIÓN'. Debería ser: 'exchange'\n",
            "Predicción para 'foreign'-'exchange': 'markets'. Debería ser: 'reserves'\n",
            "Predicción para 'exchange'-'reserves': ','. Debería ser: 'to'\n",
            "Predicción para 'reserves'-'to': 'the'. Debería ser: '53'\n",
            "Predicción para 'to'-'53': '.'. Debería ser: 'billion'\n",
            "Predicción para '53'-'billion': 'dlrs'. Debería ser: 'dlrs'\n",
            "Predicción para 'billion'-'dlrs': 'in'. Debería ser: 'among'\n",
            "Predicción para 'dlrs'-'among': 'SIN PREDICCIÓN'. Debería ser: 'the'\n",
            "Predicción para 'among'-'the': 'world'. Debería ser: 'world'\n",
            "Predicción para 'the'-'world': '''. Debería ser: ''s'\n",
            "Predicción para 'world'-''s': 'SIN PREDICCIÓN'. Debería ser: 'largest'\n",
            "Predicción para ''s'-'largest': 'SIN PREDICCIÓN'. Debería ser: '``'\n",
            "Predicción para 'largest'-'``': 'SIN PREDICCIÓN'. Debería ser: 'We'\n",
            "Predicción para '``'-'We': 'have'. Debería ser: 'must'\n",
            "Predicción para 'We'-'must': 'quickly'. Debería ser: 'quickly'\n",
            "Predicción para 'must'-'quickly': 'open'. Debería ser: 'open'\n",
            "Predicción para 'quickly'-'open': 'our'. Debería ser: 'our'\n",
            "Predicción para 'open'-'our': 'markets'. Debería ser: 'markets'\n",
            "Predicción para 'our'-'markets': ','. Debería ser: 'remove'\n",
            "Predicción para 'markets'-'remove': 'SIN PREDICCIÓN'. Debería ser: 'trade'\n",
            "Predicción para 'remove'-'trade': 'barriers'. Debería ser: 'barriers'\n",
            "Predicción para 'trade'-'barriers': 'and'. Debería ser: 'and'\n",
            "Predicción para 'barriers'-'and': 'trade'. Debería ser: 'cut'\n",
            "Predicción para 'and'-'cut': 'the'. Debería ser: 'import'\n",
            "Predicción para 'cut'-'import': 'tariffs'. Debería ser: 'tariffs'\n",
            "Predicción para 'import'-'tariffs': 'and'. Debería ser: 'to'\n",
            "Predicción para 'tariffs'-'to': 'take'. Debería ser: 'allow'\n",
            "Predicción para 'to'-'allow': 'the'. Debería ser: 'imports'\n",
            "Predicción para 'allow'-'imports': 'of'. Debería ser: 'of'\n",
            "Predicción para 'imports'-'of': 'U'. Debería ser: 'U.S.'\n",
            "Predicción para 'of'-'U.S.': 'SIN PREDICCIÓN'. Debería ser: 'Products'\n",
            "Predicción para 'U.S.'-'Products': 'SIN PREDICCIÓN'. Debería ser: 'if'\n",
            "Predicción para 'Products'-'if': 'SIN PREDICCIÓN'. Debería ser: 'we'\n",
            "Predicción para 'if'-'we': 'can'. Debería ser: 'want'\n",
            "Predicción para 'we'-'want': 'to'. Debería ser: 'to'\n",
            "Predicción para 'want'-'to': 'be'. Debería ser: 'defuse'\n",
            "Predicción para 'to'-'defuse': 'American'. Debería ser: 'problems'\n",
            "Predicción para 'defuse'-'problems': 'from'. Debería ser: 'from'\n",
            "Predicción para 'problems'-'from': 'possible'. Debería ser: 'possible'\n",
            "Predicción para 'from'-'possible': 'U'. Debería ser: 'U.S'\n",
            "Predicción para 'possible'-'U.S': 'SIN PREDICCIÓN'. Debería ser: 'Retaliation'\n",
            "Predicción para 'U.S'-'Retaliation': 'SIN PREDICCIÓN'. Debería ser: ''''\n",
            "Predicción para 'Retaliation'-'''': 'SIN PREDICCIÓN'. Debería ser: 'said'\n",
            "Predicción para ''''-'said': 'one'. Debería ser: 'Paul'\n",
            "Predicción para 'said'-'Paul': 'Sheen'. Debería ser: 'Sheen'\n",
            "Predicción para 'Paul'-'Sheen': ','. Debería ser: 'chairman'\n",
            "Predicción para 'Sheen'-'chairman': 'SIN PREDICCIÓN'. Debería ser: 'of'\n",
            "Predicción para 'chairman'-'of': 'the'. Debería ser: 'textile'\n",
            "Predicción para 'of'-'textile': 'exporters'. Debería ser: 'exporters'\n",
            "Predicción para 'textile'-'exporters': '&'. Debería ser: 'lt'\n",
            "Predicción para 'exporters'-'lt': 'SIN PREDICCIÓN'. Debería ser: 'Taiwan'\n",
            "Predicción para 'lt'-'Taiwan': 'SIN PREDICCIÓN'. Debería ser: 'Safe'\n",
            "Predicción para 'Taiwan'-'Safe': 'Group'. Debería ser: 'Group'\n",
            "Predicción para 'Safe'-'Group': '>'. Debería ser: 'A'\n",
            "Predicción para 'Group'-'A': 'said'. Debería ser: 'senior'\n",
            "Predicción para 'A'-'senior': 'official'. Debería ser: 'official'\n",
            "Predicción para 'senior'-'official': 'said'. Debería ser: 'of'\n",
            "Predicción para 'official'-'of': 'the'. Debería ser: 'South'\n",
            "Predicción para 'of'-'South': 'Africa'. Debería ser: 'Korea'\n",
            "Predicción para 'South'-'Korea': '''. Debería ser: ''s'\n",
            "Predicción para 'Korea'-''s': 'SIN PREDICCIÓN'. Debería ser: 'trade'\n",
            "Predicción para ''s'-'trade': 'SIN PREDICCIÓN'. Debería ser: 'promotion'\n",
            "Predicción para 'trade'-'promotion': 'association'. Debería ser: 'association'\n",
            "Predicción para 'promotion'-'association': 'said'. Debería ser: 'said'\n",
            "Predicción para 'association'-'said': '.'. Debería ser: 'the'\n",
            "Predicción para 'said'-'the': 'company'. Debería ser: 'trade'\n",
            "Predicción para 'the'-'trade': 'deficit'. Debería ser: 'dispute'\n",
            "Predicción para 'trade'-'dispute': 'over'. Debería ser: 'between'\n",
            "Predicción para 'dispute'-'between': 'the'. Debería ser: 'the'\n",
            "Predicción para 'between'-'the': 'two'. Debería ser: 'U.S.'\n",
            "Predicción para 'the'-'U.S.': 'SIN PREDICCIÓN'. Debería ser: 'And'\n",
            "Predicción para 'U.S.'-'And': 'SIN PREDICCIÓN'. Debería ser: 'Japan'\n",
            "Predicción para 'And'-'Japan': 'will'. Debería ser: 'might'\n",
            "Predicción para 'Japan'-'might': 'boost'. Debería ser: 'also'\n",
            "Predicción para 'might'-'also': 'be'. Debería ser: 'lead'\n",
            "Predicción para 'also'-'lead': 'to'. Debería ser: 'to'\n",
            "Predicción para 'lead'-'to': 'a'. Debería ser: 'pressure'\n",
            "Predicción para 'to'-'pressure': 'from'. Debería ser: 'on'\n",
            "Predicción para 'pressure'-'on': 'the'. Debería ser: 'South'\n",
            "Predicción para 'on'-'South': 'Korea'. Debería ser: 'Korea'\n",
            "Predicción para 'South'-'Korea': '''. Debería ser: 'whose'\n",
            "Predicción para 'Korea'-'whose': 'currencies'. Debería ser: 'chief'\n",
            "Predicción para 'whose'-'chief': 'exports'. Debería ser: 'exports'\n",
            "Predicción para 'chief'-'exports': 'are'. Debería ser: 'are'\n",
            "Predicción para 'exports'-'are': 'expected'. Debería ser: 'similar'\n",
            "Predicción para 'are'-'similar': '.'. Debería ser: 'to'\n",
            "Predicción para 'similar'-'to': 'the'. Debería ser: 'those'\n",
            "Predicción para 'to'-'those': 'of'. Debería ser: 'of'\n",
            "Predicción para 'those'-'of': 'the'. Debería ser: 'Japan'\n",
            "Predicción para 'of'-'Japan': '''. Debería ser: 'Last'\n",
            "Predicción para 'Japan'-'Last': 'SIN PREDICCIÓN'. Debería ser: 'year'\n",
            "Predicción para 'Last'-'year': ','. Debería ser: 'South'\n",
            "Predicción para 'year'-'South': 'Korea'. Debería ser: 'Korea'\n",
            "Predicción para 'South'-'Korea': '''. Debería ser: 'had'\n",
            "Predicción para 'Korea'-'had': 'a'. Debería ser: 'a'\n",
            "Predicción para 'had'-'a': 'trade'. Debería ser: 'trade'\n",
            "Predicción para 'a'-'trade': 'war'. Debería ser: 'surplus'\n",
            "Predicción para 'trade'-'surplus': 'with'. Debería ser: 'of'\n",
            "Predicción para 'surplus'-'of': '1'. Debería ser: '7.1'\n",
            "Predicción para 'of'-'7.1': 'SIN PREDICCIÓN'. Debería ser: 'billion'\n",
            "Predicción para '7.1'-'billion': 'SIN PREDICCIÓN'. Debería ser: 'dlrs'\n",
            "Predicción para 'billion'-'dlrs': 'in'. Debería ser: 'with'\n",
            "Predicción para 'dlrs'-'with': 'a'. Debería ser: 'the'\n",
            "Predicción para 'with'-'the': 'Securities'. Debería ser: 'U.S.'\n",
            "Predicción para 'the'-'U.S.': 'SIN PREDICCIÓN'. Debería ser: 'Up'\n",
            "Predicción para 'U.S.'-'Up': 'SIN PREDICCIÓN'. Debería ser: 'from'\n",
            "Predicción para 'Up'-'from': '4'. Debería ser: '4.9'\n",
            "Predicción para 'from'-'4.9': 'SIN PREDICCIÓN'. Debería ser: 'billion'\n",
            "Predicción para '4.9'-'billion': 'SIN PREDICCIÓN'. Debería ser: 'dlrs'\n",
            "Predicción para 'billion'-'dlrs': 'in'. Debería ser: 'in'\n",
            "Predicción para 'dlrs'-'in': 'the'. Debería ser: '1985'\n",
            "Predicción para 'in'-'1985': '.'. Debería ser: 'In'\n",
            "Predicción para '1985'-'In': 'SIN PREDICCIÓN'. Debería ser: 'Malaysia'\n",
            "Predicción para 'In'-'Malaysia': ','. Debería ser: 'trade'\n",
            "Predicción para 'Malaysia'-'trade': 'SIN PREDICCIÓN'. Debería ser: 'officers'\n",
            "Predicción para 'trade'-'officers': 'and'. Debería ser: 'and'\n",
            "Predicción para 'officers'-'and': 'directors'. Debería ser: 'businessmen'\n",
            "Predicción para 'and'-'businessmen': 'said'. Debería ser: 'said'\n",
            "Predicción para 'businessmen'-'said': 'the'. Debería ser: 'tough'\n",
            "Predicción para 'said'-'tough': 'protectionist'. Debería ser: 'curbs'\n",
            "Predicción para 'tough'-'curbs': 'against'. Debería ser: 'against'\n",
            "Predicción para 'curbs'-'against': 'Japan'. Debería ser: 'Japan'\n",
            "Predicción para 'against'-'Japan': 'for'. Debería ser: 'might'\n",
            "Predicción para 'Japan'-'might': 'boost'. Debería ser: 'allow'\n",
            "Predicción para 'might'-'allow': 'hard'. Debería ser: 'hard-hit'\n",
            "Predicción para 'allow'-'hard-hit': 'SIN PREDICCIÓN'. Debería ser: 'producers'\n",
            "Predicción para 'hard-hit'-'producers': 'SIN PREDICCIÓN'. Debería ser: 'of'\n",
            "Predicción para 'producers'-'of': 'wheat'. Debería ser: 'semiconductors'\n",
            "Predicción para 'of'-'semiconductors': 'and'. Debería ser: 'in'\n",
            "Predicción para 'semiconductors'-'in': 'world'. Debería ser: 'third'\n",
            "Predicción para 'in'-'third': 'countries'. Debería ser: 'countries'\n",
            "Predicción para 'third'-'countries': '.'. Debería ser: 'to'\n",
            "Predicción para 'countries'-'to': 'the'. Debería ser: 'expand'\n",
            "Predicción para 'to'-'expand': 'its'. Debería ser: 'their'\n",
            "Predicción para 'expand'-'their': 'sales'. Debería ser: 'sales'\n",
            "Predicción para 'their'-'sales': 'to'. Debería ser: 'to'\n",
            "Predicción para 'sales'-'to': 'the'. Debería ser: 'the'\n",
            "Predicción para 'to'-'the': 'U'. Debería ser: 'U.S'\n",
            "Predicción para 'the'-'U.S': 'SIN PREDICCIÓN'. Debería ser: 'In'\n",
            "Predicción para 'U.S'-'In': 'SIN PREDICCIÓN'. Debería ser: 'Hong'\n",
            "Predicción para 'In'-'Hong': 'Kong'. Debería ser: 'Kong'\n",
            "Predicción para 'Hong'-'Kong': ','. Debería ser: 'where'\n",
            "Predicción para 'Kong'-'where': 'SIN PREDICCIÓN'. Debería ser: 'newspapers'\n",
            "Predicción para 'where'-'newspapers': 'have'. Debería ser: 'have'\n",
            "Predicción para 'newspapers'-'have': 'alleged'. Debería ser: 'alleged'\n",
            "Predicción para 'have'-'alleged': 'Japan'. Debería ser: 'Japan'\n",
            "Predicción para 'alleged'-'Japan': 'has'. Debería ser: 'has'\n",
            "Predicción para 'Japan'-'has': 'the'. Debería ser: 'been'\n",
            "Predicción para 'has'-'been': 'the'. Debería ser: 'selling'\n",
            "Predicción para 'been'-'selling': 'below'. Debería ser: 'below-cost'\n",
            "Predicción para 'selling'-'below-cost': 'SIN PREDICCIÓN'. Debería ser: 'semiconductors'\n",
            "Predicción para 'below-cost'-'semiconductors': 'SIN PREDICCIÓN'. Debería ser: 'some'\n",
            "Predicción para 'semiconductors'-'some': 'SIN PREDICCIÓN'. Debería ser: 'electronics'\n",
            "Predicción para 'some'-'electronics': 'manufacturers'. Debería ser: 'manufacturers'\n",
            "Predicción para 'electronics'-'manufacturers': 'share'. Debería ser: 'share'\n",
            "Predicción para 'manufacturers'-'share': 'that'. Debería ser: 'that'\n",
            "Predicción para 'share'-'that': 'view'. Debería ser: 'view'\n",
            "Predicción para 'that'-'view': '.'. Debería ser: 'But'\n",
            "Predicción para 'view'-'But': 'SIN PREDICCIÓN'. Debería ser: 'other'\n",
            "Predicción para 'But'-'other': 'analysts'. Debería ser: 'businessmen'\n",
            "Predicción para 'other'-'businessmen': 'said'. Debería ser: 'said'\n",
            "Predicción para 'businessmen'-'said': 'the'. Debería ser: 'such'\n",
            "Predicción para 'said'-'such': 'a'. Debería ser: 'a'\n",
            "Predicción para 'such'-'a': 'move'. Debería ser: 'short-term'\n",
            "Predicción para 'a'-'short-term': 'SIN PREDICCIÓN'. Debería ser: 'commercial'\n",
            "Predicción para 'short-term'-'commercial': 'SIN PREDICCIÓN'. Debería ser: 'advantage'\n",
            "Predicción para 'commercial'-'advantage': 'would'. Debería ser: 'would'\n",
            "Predicción para 'advantage'-'would': 'be'. Debería ser: 'be'\n",
            "Predicción para 'would'-'be': 'a'. Debería ser: 'outweighed'\n",
            "Predicción para 'be'-'outweighed': 'by'. Debería ser: 'by'\n",
            "Predicción para 'outweighed'-'by': 'further'. Debería ser: 'further'\n",
            "Predicción para 'by'-'further': 'U'. Debería ser: 'U.S.'\n",
            "Predicción para 'further'-'U.S.': 'SIN PREDICCIÓN'. Debería ser: 'Pressure'\n",
            "Predicción para 'U.S.'-'Pressure': 'SIN PREDICCIÓN'. Debería ser: 'to'\n",
            "Predicción para 'Pressure'-'to': 'cut'. Debería ser: 'block'\n",
            "Predicción para 'to'-'block': 'the'. Debería ser: 'imports'\n",
            "Predicción para 'block'-'imports': '.'. Debería ser: '``'\n",
            "Predicción para 'imports'-'``': 'SIN PREDICCIÓN'. Debería ser: 'That'\n",
            "Predicción para '``'-'That': 'is'. Debería ser: 'is'\n",
            "Predicción para 'That'-'is': 'our'. Debería ser: 'a'\n",
            "Predicción para 'is'-'a': 'major'. Debería ser: 'very'\n",
            "Predicción para 'a'-'very': 'serious'. Debería ser: 'short-term'\n",
            "Predicción para 'very'-'short-term': 'SIN PREDICCIÓN'. Debería ser: 'view'\n",
            "Predicción para 'short-term'-'view': 'SIN PREDICCIÓN'. Debería ser: ''''\n",
            "Predicción para 'view'-'''': 'SIN PREDICCIÓN'. Debería ser: 'said'\n",
            "Predicción para ''''-'said': 'one'. Debería ser: 'Lawrence'\n",
            "Predicción para 'said'-'Lawrence': 'Mills'. Debería ser: 'Mills'\n",
            "Predicción para 'Lawrence'-'Mills': ','. Debería ser: 'director-general'\n",
            "Predicción para 'Mills'-'director-general': 'SIN PREDICCIÓN'. Debería ser: 'of'\n",
            "Predicción para 'director-general'-'of': 'SIN PREDICCIÓN'. Debería ser: 'the'\n",
            "Predicción para 'of'-'the': 'company'. Debería ser: 'Federation'\n",
            "Predicción para 'the'-'Federation': 'of'. Debería ser: 'of'\n",
            "Predicción para 'Federation'-'of': 'Economic'. Debería ser: 'Hong'\n",
            "Predicción para 'of'-'Hong': 'Kong'. Debería ser: 'Kong'\n",
            "Predicción para 'Hong'-'Kong': ','. Debería ser: 'Industry'\n",
            "Predicción para 'Kong'-'Industry': '.'. Debería ser: '``'\n",
            "Predicción para 'Industry'-'``': 'SIN PREDICCIÓN'. Debería ser: 'If'\n",
            "Predicción para '``'-'If': 'the'. Debería ser: 'the'\n",
            "Predicción para 'If'-'the': 'dollar'. Debería ser: 'whole'\n",
            "Predicción para 'the'-'whole': 'of'. Debería ser: 'purpose'\n",
            "Predicción para 'whole'-'purpose': 'is'. Debería ser: 'is'\n",
            "Predicción para 'purpose'-'is': 'to'. Debería ser: 'to'\n",
            "Predicción para 'is'-'to': 'be'. Debería ser: 'prevent'\n",
            "Predicción para 'to'-'prevent': 'a'. Debería ser: 'imports'\n",
            "Predicción para 'prevent'-'imports': ','. Debería ser: 'one'\n",
            "Predicción para 'imports'-'one': 'quarter'. Debería ser: 'day'\n",
            "Predicción para 'one'-'day': 'after'. Debería ser: 'it'\n",
            "Predicción para 'day'-'it': 'will'. Debería ser: 'will'\n",
            "Predicción para 'it'-'will': 'be'. Debería ser: 'be'\n",
            "Predicción para 'will'-'be': 'used'. Debería ser: 'extended'\n",
            "Predicción para 'be'-'extended': 'to'. Debería ser: 'to'\n",
            "Predicción para 'extended'-'to': 'other'. Debería ser: 'other'\n",
            "Predicción para 'to'-'other': 'countries'. Debería ser: 'sources'\n",
            "Predicción para 'other'-'sources': ','. Debería ser: 'Much'\n",
            "Predicción para 'sources'-'Much': 'SIN PREDICCIÓN'. Debería ser: 'more'\n",
            "Predicción para 'Much'-'more': 'serious'. Debería ser: 'serious'\n",
            "Predicción para 'more'-'serious': 'for'. Debería ser: 'for'\n",
            "Predicción para 'serious'-'for': 'Hong'. Debería ser: 'Hong'\n",
            "Predicción para 'for'-'Hong': 'Kong'. Debería ser: 'Kong'\n",
            "Predicción para 'Hong'-'Kong': ','. Debería ser: 'is'\n",
            "Predicción para 'Kong'-'is': 'the'. Debería ser: 'the'\n",
            "Predicción para 'is'-'the': 'first'. Debería ser: 'disadvantage'\n",
            "Predicción para 'the'-'disadvantage': 'of'. Debería ser: 'of'\n",
            "Predicción para 'disadvantage'-'of': 'action'. Debería ser: 'action'\n",
            "Predicción para 'of'-'action': '.'. Debería ser: 'restraining'\n",
            "Predicción para 'action'-'restraining': 'trade'. Debería ser: 'trade'\n",
            "Predicción para 'restraining'-'trade': ','. Debería ser: ''''\n",
            "Predicción para 'trade'-'''': 'SIN PREDICCIÓN'. Debería ser: 'he'\n",
            "Predicción para ''''-'he': 'said'. Debería ser: 'said'\n",
            "Predicción para 'he'-'said': '.'. Debería ser: 'The'\n",
            "Predicción para 'said'-'The': 'Independent'. Debería ser: 'U.S.'\n",
            "Predicción para 'The'-'U.S.': 'SIN PREDICCIÓN'. Debería ser: 'Last'\n",
            "Predicción para 'U.S.'-'Last': 'SIN PREDICCIÓN'. Debería ser: 'year'\n",
            "Predicción para 'Last'-'year': ','. Debería ser: 'was'\n",
            "Predicción para 'year'-'was': 'a'. Debería ser: 'Hong'\n",
            "Predicción para 'was'-'Hong': 'Kong'. Debería ser: 'Kong'\n",
            "Predicción para 'Hong'-'Kong': ','. Debería ser: ''s'\n",
            "Predicción para 'Kong'-''s': 'SIN PREDICCIÓN'. Debería ser: 'biggest'\n",
            "Predicción para ''s'-'biggest': 'SIN PREDICCIÓN'. Debería ser: 'export'\n",
            "Predicción para 'biggest'-'export': 'market'. Debería ser: 'market'\n",
            "Predicción para 'export'-'market': ','. Debería ser: 'accounting'\n",
            "Predicción para 'market'-'accounting': 'SIN PREDICCIÓN'. Debería ser: 'for'\n",
            "Predicción para 'accounting'-'for': '75'. Debería ser: 'over'\n",
            "Predicción para 'for'-'over': 'a'. Debería ser: '30'\n",
            "Predicción para 'over'-'30': 'mln'. Debería ser: 'pct'\n",
            "Predicción para '30'-'pct': 'of'. Debería ser: 'of'\n",
            "Predicción para 'pct'-'of': 'the'. Debería ser: 'domestically'\n",
            "Predicción para 'of'-'domestically': 'produced'. Debería ser: 'produced'\n",
            "Predicción para 'domestically'-'produced': 'exports'. Debería ser: 'exports'\n",
            "Predicción para 'produced'-'exports': '.'. Debería ser: 'The'\n",
            "Predicción para 'exports'-'The': 'SIN PREDICCIÓN'. Debería ser: 'Australian'\n",
            "Predicción para 'The'-'Australian': 'government'. Debería ser: 'government'\n",
            "Predicción para 'Australian'-'government': '''. Debería ser: 'is'\n",
            "Predicción para 'government'-'is': 'to'. Debería ser: 'awaiting'\n",
            "Predicción para 'is'-'awaiting': 'the'. Debería ser: 'the'\n",
            "Predicción para 'awaiting'-'the': 'arrival'. Debería ser: 'outcome'\n",
            "Predicción para 'the'-'outcome': 'of'. Debería ser: 'of'\n",
            "Predicción para 'outcome'-'of': 'the'. Debería ser: 'trade'\n",
            "Predicción para 'of'-'trade': 'ministers'. Debería ser: 'talks'\n",
            "Predicción para 'trade'-'talks': 'with'. Debería ser: 'between'\n",
            "Predicción para 'talks'-'between': 'the'. Debería ser: 'the'\n",
            "Predicción para 'between'-'the': 'two'. Debería ser: 'U.S.'\n",
            "Predicción para 'the'-'U.S.': 'SIN PREDICCIÓN'. Debería ser: 'And'\n",
            "Predicción para 'U.S.'-'And': 'SIN PREDICCIÓN'. Debería ser: 'Japan'\n",
            "Predicción para 'And'-'Japan': 'will'. Debería ser: 'with'\n",
            "Predicción para 'Japan'-'with': 'large'. Debería ser: 'interest'\n",
            "Predicción para 'with'-'interest': 'and'. Debería ser: 'and'\n",
            "Predicción para 'interest'-'and': 'corporate'. Debería ser: 'concern'\n",
            "Predicción para 'and'-'concern': ','. Debería ser: 'Industry'\n",
            "Predicción para 'concern'-'Industry': 'SIN PREDICCIÓN'. Debería ser: 'Minister'\n",
            "Predicción para 'Industry'-'Minister': 'Hajime'. Debería ser: 'John'\n",
            "Predicción para 'Minister'-'John': 'Dawkins'. Debería ser: 'Button'\n",
            "Predicción para 'John'-'Button': 'said'. Debería ser: 'said'\n",
            "Predicción para 'Button'-'said': 'in'. Debería ser: 'in'\n",
            "Predicción para 'said'-'in': 'a'. Debería ser: 'Canberra'\n",
            "Predicción para 'in'-'Canberra': 'last'. Debería ser: 'last'\n",
            "Predicción para 'Canberra'-'last': 'Friday'. Debería ser: 'Friday'\n",
            "Predicción para 'last'-'Friday': '.'. Debería ser: '``'\n",
            "Predicción para 'Friday'-'``': 'a'. Debería ser: 'This'\n",
            "Predicción para '``'-'This': 'is'. Debería ser: 'kind'\n",
            "Predicción para 'This'-'kind': 'of'. Debería ser: 'of'\n",
            "Predicción para 'kind'-'of': 'social'. Debería ser: 'deterioration'\n",
            "Predicción para 'of'-'deterioration': 'in'. Debería ser: 'in'\n",
            "Predicción para 'deterioration'-'in': 'the'. Debería ser: 'trade'\n",
            "Predicción para 'in'-'trade': '.'. Debería ser: 'relations'\n",
            "Predicción para 'trade'-'relations': 'between'. Debería ser: 'between'\n",
            "Predicción para 'relations'-'between': 'the'. Debería ser: 'two'\n",
            "Predicción para 'between'-'two': 'and'. Debería ser: 'countries'\n",
            "Predicción para 'two'-'countries': '.'. Debería ser: 'which'\n",
            "Predicción para 'countries'-'which': 'are'. Debería ser: 'are'\n",
            "Predicción para 'which'-'are': 'not'. Debería ser: 'major'\n",
            "Predicción para 'are'-'major': 'trading'. Debería ser: 'trading'\n",
            "Predicción para 'major'-'trading': 'partners'. Debería ser: 'partners'\n",
            "Predicción para 'trading'-'partners': ','. Debería ser: 'of'\n",
            "Predicción para 'partners'-'of': 'ours'. Debería ser: 'ours'\n",
            "Predicción para 'of'-'ours': 'is'. Debería ser: 'is'\n",
            "Predicción para 'ours'-'is': 'a'. Debería ser: 'a'\n",
            "Predicción para 'is'-'a': 'major'. Debería ser: 'very'\n",
            "Predicción para 'a'-'very': 'serious'. Debería ser: 'serious'\n",
            "Predicción para 'very'-'serious': 'about'. Debería ser: 'matter'\n",
            "Predicción para 'serious'-'matter': ','. Debería ser: ''''\n",
            "Predicción para 'matter'-'''': 'SIN PREDICCIÓN'. Debería ser: 'Button'\n",
            "Predicción para ''''-'Button': 'said'. Debería ser: 'said'\n",
            "Predicción para 'Button'-'said': 'in'. Debería ser: 'He'\n",
            "Predicción para 'said'-'He': 'SIN PREDICCIÓN'. Debería ser: 'said'\n",
            "Predicción para 'He'-'said': 'the'. Debería ser: 'Australia'\n",
            "Predicción para 'said'-'Australia': '''. Debería ser: ''s'\n",
            "Predicción para 'Australia'-''s': 'SIN PREDICCIÓN'. Debería ser: 'concerns'\n",
            "Predicción para ''s'-'concerns': 'SIN PREDICCIÓN'. Debería ser: 'centred'\n",
            "Predicción para 'concerns'-'centred': 'on'. Debería ser: 'on'\n",
            "Predicción para 'centred'-'on': 'the'. Debería ser: 'coal'\n",
            "Predicción para 'on'-'coal': 'and'. Debería ser: 'and'\n",
            "Predicción para 'coal'-'and': 'steel'. Debería ser: 'beef'\n",
            "Predicción para 'and'-'beef': 'offal'. Debería ser: 'Australia'\n",
            "Predicción para 'beef'-'Australia': 'SIN PREDICCIÓN'. Debería ser: ''s'\n",
            "Predicción para 'Australia'-''s': 'SIN PREDICCIÓN'. Debería ser: 'two'\n",
            "Predicción para ''s'-'two': 'SIN PREDICCIÓN'. Debería ser: 'largest'\n",
            "Predicción para 'two'-'largest': 'exports'. Debería ser: 'exports'\n",
            "Predicción para 'largest'-'exports': 'to'. Debería ser: 'to'\n",
            "Predicción para 'exports'-'to': 'the'. Debería ser: 'Japan'\n",
            "Predicción para 'to'-'Japan': '''. Debería ser: 'and'\n",
            "Predicción para 'Japan'-'and': 'the'. Debería ser: 'also'\n",
            "Predicción para 'and'-'also': 'to'. Debería ser: 'significant'\n",
            "Predicción para 'also'-'significant': 'U'. Debería ser: 'U.S.'\n",
            "Predicción para 'significant'-'U.S.': 'SIN PREDICCIÓN'. Debería ser: 'Exports'\n",
            "Predicción para 'U.S.'-'Exports': 'SIN PREDICCIÓN'. Debería ser: 'to'\n",
            "Predicción para 'Exports'-'to': 'the'. Debería ser: 'that'\n",
            "Predicción para 'to'-'that': 'of'. Debería ser: 'country'\n",
            "Predicción para 'that'-'country': '''. Debería ser: 'Meanwhile'\n",
            "Predicción para 'country'-'Meanwhile': 'SIN PREDICCIÓN'. Debería ser: 'U.S.-Japanese'\n",
            "Predicción para 'Meanwhile'-'U.S.-Japanese': 'SIN PREDICCIÓN'. Debería ser: 'diplomatic'\n",
            "Predicción para 'U.S.-Japanese'-'diplomatic': 'SIN PREDICCIÓN'. Debería ser: 'manoeuvres'\n",
            "Predicción para 'diplomatic'-'manoeuvres': 'to'. Debería ser: 'to'\n",
            "Predicción para 'manoeuvres'-'to': 'solve'. Debería ser: 'solve'\n",
            "Predicción para 'to'-'solve': 'the'. Debería ser: 'the'\n",
            "Predicción para 'solve'-'the': 'problem'. Debería ser: 'trade'\n",
            "Predicción para 'the'-'trade': 'deficit'. Debería ser: 'stand-off'\n",
            "Predicción para 'trade'-'stand-off': 'SIN PREDICCIÓN'. Debería ser: 'continue'\n",
            "Predicción para 'stand-off'-'continue': 'SIN PREDICCIÓN'. Debería ser: 'Japan'\n",
            "Predicción para 'continue'-'Japan': 'SIN PREDICCIÓN'. Debería ser: ''s'\n",
            "Predicción para 'Japan'-''s': 'SIN PREDICCIÓN'. Debería ser: 'ruling'\n",
            "Predicción para ''s'-'ruling': 'SIN PREDICCIÓN'. Debería ser: 'Liberal'\n",
            "Predicción para 'ruling'-'Liberal': 'Democratic'. Debería ser: 'Democratic'\n",
            "Predicción para 'Liberal'-'Democratic': 'Party'. Debería ser: 'Party'\n",
            "Predicción para 'Democratic'-'Party': '('. Debería ser: 'yesterday'\n",
            "Predicción para 'Party'-'yesterday': 'outlined'. Debería ser: 'outlined'\n",
            "Predicción para 'yesterday'-'outlined': 'a'. Debería ser: 'a'\n",
            "Predicción para 'outlined'-'a': 'package'. Debería ser: 'package'\n",
            "Predicción para 'a'-'package': 'of'. Debería ser: 'of'\n",
            "Predicción para 'package'-'of': 'cash'. Debería ser: 'economic'\n",
            "Predicción para 'of'-'economic': 'growth'. Debería ser: 'measures'\n",
            "Predicción para 'economic'-'measures': 'to'. Debería ser: 'to'\n",
            "Predicción para 'measures'-'to': 'boost'. Debería ser: 'boost'\n",
            "Predicción para 'to'-'boost': 'the'. Debería ser: 'the'\n",
            "Predicción para 'boost'-'the': 'economy'. Debería ser: 'Japanese'\n",
            "Predicción para 'the'-'Japanese': 'economy'. Debería ser: 'economy'\n",
            "Predicción para 'Japanese'-'economy': '.'. Debería ser: 'The'\n",
            "Predicción para 'economy'-'The': 'SIN PREDICCIÓN'. Debería ser: 'measures'\n",
            "Predicción para 'The'-'measures': 'are'. Debería ser: 'proposed'\n",
            "Predicción para 'measures'-'proposed': 'include'. Debería ser: 'include'\n",
            "Predicción para 'proposed'-'include': 'a'. Debería ser: 'a'\n",
            "Predicción para 'include'-'a': 'loss'. Debería ser: 'large'\n",
            "Predicción para 'a'-'large': 'number'. Debería ser: 'supplementary'\n",
            "Predicción para 'large'-'supplementary': 'budget'. Debería ser: 'budget'\n",
            "Predicción para 'supplementary'-'budget': 'exceeding'. Debería ser: 'and'\n",
            "Predicción para 'budget'-'and': 'record'. Debería ser: 'record'\n",
            "Predicción para 'and'-'record': 'public'. Debería ser: 'public'\n",
            "Predicción para 'record'-'public': 'works'. Debería ser: 'works'\n",
            "Predicción para 'public'-'works': ','. Debería ser: 'spending'\n",
            "Predicción para 'works'-'spending': 'in'. Debería ser: 'in'\n",
            "Predicción para 'spending'-'in': 'the'. Debería ser: 'the'\n",
            "Predicción para 'in'-'the': 'first'. Debería ser: 'first'\n",
            "Predicción para 'the'-'first': 'quarter'. Debería ser: 'half'\n",
            "Predicción para 'first'-'half': 'of'. Debería ser: 'of'\n",
            "Predicción para 'half'-'of': 'the'. Debería ser: 'the'\n",
            "Predicción para 'of'-'the': 'company'. Debería ser: 'financial'\n",
            "Predicción para 'the'-'financial': 'year'. Debería ser: 'year'\n",
            "Predicción para 'financial'-'year': 'ending'. Debería ser: 'They'\n",
            "Predicción para 'year'-'They': 'SIN PREDICCIÓN'. Debería ser: 'also'\n",
            "Predicción para 'They'-'also': 'said'. Debería ser: 'call'\n",
            "Predicción para 'also'-'call': 'for'. Debería ser: 'for'\n",
            "Predicción para 'call'-'for': 'a'. Debería ser: 'stepped-up'\n",
            "Predicción para 'for'-'stepped-up': 'SIN PREDICCIÓN'. Debería ser: 'spending'\n",
            "Predicción para 'stepped-up'-'spending': 'SIN PREDICCIÓN'. Debería ser: 'as'\n",
            "Predicción para 'spending'-'as': 'an'. Debería ser: 'an'\n",
            "Predicción para 'as'-'an': 'investment'. Debería ser: 'emergency'\n",
            "Predicción para 'an'-'emergency': 'meeting'. Debería ser: 'measure'\n",
            "Predicción para 'emergency'-'measure': 'to'. Debería ser: 'to'\n",
            "Predicción para 'measure'-'to': 'stimulate'. Debería ser: 'stimulate'\n",
            "Predicción para 'to'-'stimulate': 'the'. Debería ser: 'the'\n",
            "Predicción para 'stimulate'-'the': 'economy'. Debería ser: 'economy'\n",
            "Predicción para 'the'-'economy': ','. Debería ser: 'despite'\n",
            "Predicción para 'economy'-'despite': 'Prime'. Debería ser: 'Prime'\n",
            "Predicción para 'despite'-'Prime': 'Minister'. Debería ser: 'Minister'\n",
            "Predicción para 'Prime'-'Minister': 'Yasuhiro'. Debería ser: 'Yasuhiro'\n",
            "Predicción para 'Minister'-'Yasuhiro': 'Nakasone'. Debería ser: 'Nakasone'\n",
            "Predicción para 'Yasuhiro'-'Nakasone': '''. Debería ser: ''s'\n",
            "Predicción para 'Nakasone'-''s': 'SIN PREDICCIÓN'. Debería ser: 'avowed'\n",
            "Predicción para ''s'-'avowed': 'SIN PREDICCIÓN'. Debería ser: 'fiscal'\n",
            "Predicción para 'avowed'-'fiscal': 'reform'. Debería ser: 'reform'\n",
            "Predicción para 'fiscal'-'reform': 'program'. Debería ser: 'program'\n",
            "Predicción para 'reform'-'program': '.'. Debería ser: 'Deputy'\n",
            "Predicción para 'program'-'Deputy': 'SIN PREDICCIÓN'. Debería ser: 'U.S.'\n",
            "Predicción para 'Deputy'-'U.S.': 'SIN PREDICCIÓN'. Debería ser: 'Trade'\n",
            "Predicción para 'U.S.'-'Trade': 'SIN PREDICCIÓN'. Debería ser: 'Representative'\n",
            "Predicción para 'Trade'-'Representative': 'Clayton'. Debería ser: 'Michael'\n",
            "Predicción para 'Representative'-'Michael': 'Smith'. Debería ser: 'Smith'\n",
            "Predicción para 'Michael'-'Smith': 'and'. Debería ser: 'and'\n",
            "Predicción para 'Smith'-'and': 'Wesson'. Debería ser: 'Makoto'\n",
            "Predicción para 'and'-'Makoto': 'Kuroda'. Debería ser: 'Kuroda'\n",
            "Predicción para 'Makoto'-'Kuroda': ','. Debería ser: 'Japan'\n",
            "Predicción para 'Kuroda'-'Japan': 'SIN PREDICCIÓN'. Debería ser: ''s'\n",
            "Predicción para 'Japan'-''s': 'SIN PREDICCIÓN'. Debería ser: 'deputy'\n",
            "Predicción para ''s'-'deputy': 'SIN PREDICCIÓN'. Debería ser: 'minister'\n",
            "Predicción para 'deputy'-'minister': 'of'. Debería ser: 'of'\n",
            "Predicción para 'minister'-'of': 'Japan'. Debería ser: 'International'\n",
            "Predicción para 'of'-'International': 'Trade'. Debería ser: 'Trade'\n",
            "Predicción para 'International'-'Trade': 'and'. Debería ser: 'and'\n",
            "Predicción para 'Trade'-'and': 'Industry'. Debería ser: 'Industry'\n",
            "Predicción para 'and'-'Industry': '('. Debería ser: 'MITI'\n",
            "Predicción para 'Industry'-'MITI': 'SIN PREDICCIÓN'. Debería ser: 'are'\n",
            "Predicción para 'MITI'-'are': 'SIN PREDICCIÓN'. Debería ser: 'due'\n",
            "Predicción para 'are'-'due': 'to'. Debería ser: 'to'\n",
            "Predicción para 'due'-'to': 'the'. Debería ser: 'meet'\n",
            "Predicción para 'to'-'meet': 'the'. Debería ser: 'in'\n",
            "Predicción para 'meet'-'in': 'Vienna'. Debería ser: 'Washington'\n",
            "Predicción para 'in'-'Washington': ','. Debería ser: 'this'\n",
            "Predicción para 'Washington'-'this': 'week'. Debería ser: 'week'\n",
            "Predicción para 'this'-'week': ','. Debería ser: 'in'\n",
            "Predicción para 'week'-'in': 'the'. Debería ser: 'an'\n",
            "Predicción para 'in'-'an': 'interview'. Debería ser: 'effort'\n",
            "Predicción para 'an'-'effort': 'to'. Debería ser: 'to'\n",
            "Predicción para 'effort'-'to': 'acquire'. Debería ser: 'end'\n",
            "Predicción para 'to'-'end': '-'. Debería ser: 'the'\n",
            "Predicción para 'end'-'the': 'strike'. Debería ser: 'dispute'\n",
            "\n",
            "Aciertos: 265/741 = 35.76%\n"
          ]
        }
      ],
      "source": [
        "text = reuters.raw('test/14826')\n",
        "# text = reuters.raw('test/14828')\n",
        "\n",
        "evaluar(text,model)"
      ]
    },
    {
      "cell_type": "markdown",
      "metadata": {
        "id": "1TQwr3G3EIDG"
      },
      "source": [
        "⭕ Preguntas para reflexionar:\n",
        "\n",
        "* ¿Qué efecto tiene el tipo de corpus en la construcción y desempeño del modelo?\n",
        "* ¿Qué podríamos hacer para incrementar los aciertos?"
      ]
    },
    {
      "cell_type": "markdown",
      "metadata": {
        "id": "UNMmY2D8F2qX"
      },
      "source": [
        "⭕ Realicemos una nube de palabras con los trigramas, ¿con o sin stopwords?"
      ]
    },
    {
      "cell_type": "code",
      "execution_count": 6,
      "metadata": {
        "id": "HxPbDqOUGHY3"
      },
      "outputs": [],
      "source": [
        "!pip install -qq wordcloud"
      ]
    },
    {
      "cell_type": "code",
      "execution_count": 7,
      "metadata": {
        "colab": {
          "base_uri": "https://localhost:8080/",
          "height": 285
        },
        "id": "dL2_lpwtLyN1",
        "outputId": "d440638b-eee0-4a3c-b137-1d8131cc53bb"
      },
      "outputs": [
        {
          "data": {
            "image/png": "[encoded data removed]",
            "text/plain": [
              "<Figure size 640x480 with 1 Axes>"
            ]
          },
          "metadata": {},
          "output_type": "display_data"
        }
      ],
      "source": [
        "from wordcloud import WordCloud\n",
        "import matplotlib.pyplot as plt\n",
        "\n",
        "tgs = [f\"{w1}_{w2}_{w3}\".lower() for w1,w2,w3 in tri_grams]\n",
        "\n",
        "wc = WordCloud(background_color='white')\n",
        "wc.generate(\" \".join(tgs))\n",
        "plt.imshow(wc)\n",
        "plt.axis('off')\n",
        "plt.show()"
      ]
    },
    {
      "cell_type": "markdown",
      "metadata": {
        "id": "FKBlXKt1m2co"
      },
      "source": [
        "Ahora, generemos automáticamente algunas palabras con este modelo:"
      ]
    },
    {
      "cell_type": "code",
      "execution_count": 22,
      "metadata": {
        "id": "b_JrxwYcnHHy"
      },
      "outputs": [],
      "source": [
        "vocab = list(set(list(reuters.words()))) # El vocabulario"
      ]
    },
    {
      "cell_type": "code",
      "execution_count": 30,
      "metadata": {
        "colab": {
          "base_uri": "https://localhost:8080/"
        },
        "id": "X1VY1XSvkRn-",
        "outputId": "bd037255-9c61-4100-b774-3595b7167aeb"
      },
      "outputs": [
        {
          "name": "stdout",
          "output_type": "stream",
          "text": [
            "('Has', 'said')\n"
          ]
        }
      ],
      "source": [
        "import numpy as np\n",
        "\n",
        "word_pair = list(model.keys())[94]\n",
        "\n",
        "# random_idx = np.random.randint(0, len(vocab))\n",
        "# word_pair = list(model.keys())[random_idx]\n",
        "\n",
        "print(word_pair)"
      ]
    },
    {
      "cell_type": "code",
      "execution_count": 31,
      "metadata": {
        "colab": {
          "base_uri": "https://localhost:8080/"
        },
        "id": "Yvkxy7FwkxD-",
        "outputId": "3b3e9426-3998-4fef-e434-113f98648e26"
      },
      "outputs": [
        {
          "name": "stdout",
          "output_type": "stream",
          "text": [
            "Has said it has agreed to sell its lt Delhi Petroleum Pty Ltd said it has agreed to sell its lt Delhi Petroleum Pty Ltd said it "
          ]
        }
      ],
      "source": [
        "total_len = 25  # longitud del texto generado\n",
        "\n",
        "pos = 0\n",
        "print(word_pair[0],word_pair[1],end=' ')\n",
        "while pos<total_len:\n",
        "    next_word = predict_next_word(word_pair[0], word_pair[1])\n",
        "    print(next_word, end=' ')\n",
        "    word_pair = (word_pair[1], next_word)\n",
        "    pos += 1"
      ]
    },
    {
      "cell_type": "markdown",
      "metadata": {
        "id": "pGr-zjMjn6Xi"
      },
      "source": [
        "⭕ Preguntas:\n",
        "\n",
        "* ¿Qué tanto sentido tiene el texto?\n",
        "* ¿Cómo podemos evaluar estas tareas?"
      ]
    },
    {
      "cell_type": "markdown",
      "metadata": {
        "id": "T-IzDDqpSkxv"
      },
      "source": [
        "## Unigramas"
      ]
    },
    {
      "cell_type": "markdown",
      "metadata": {
        "id": "l5uroSPzTE5S"
      },
      "source": [
        "⭕ ¿Cómo serían las predicciones con un modelo de unigramas?"
      ]
    },
    {
      "cell_type": "code",
      "execution_count": null,
      "metadata": {
        "id": "CqRTB2g7TS2S"
      },
      "outputs": [],
      "source": [
        "from collections import Counter\n",
        "\n",
        "conteos = Counter(list(reuters.words()))\n",
        "print(conteos)"
      ]
    },
    {
      "cell_type": "markdown",
      "metadata": {
        "id": "OKthcg-YlHJc"
      },
      "source": [
        "## Ejercicios - Tarea 2"
      ]
    },
    {
      "cell_type": "markdown",
      "metadata": {
        "id": "bDMoue3oKIFB"
      },
      "source": [
        "⭕ Repetir el experimento con 2-gramas, 4-gramas y 2-skip-2-gramas.\n",
        "\n",
        "En cada uno de ellos:\n",
        "\n",
        "* Generar el modelo de $n$-gramas (con y sin signos de puntuación).\n",
        "* Realizar el experimento de predecir la siguiente palabra con el texto. Evaluar el experimento.\n",
        "* Realizar una generación de texto comenzando en dos diferentes *seeds*.\n",
        "\n",
        "⭕ Discutir y redactar un reporte (en el mismo notebook) abordando los siguientes puntos:\n",
        "\n",
        "1. ¿Qué modelo de los 6 logró mejores predicciones?\n",
        "2. ¿Qué modelo de los 6 tenía más problemas generando predicciones?\n",
        "3. ¿Qué efecto tiene el tipo de corpus en la construcción y desempeño del modelo?\n",
        "4. ¿Qué podríamos hacer para incrementar los aciertos?"
      ]
    },
    {
      "cell_type": "markdown",
      "metadata": {
        "id": "NCIywopwSosh"
      },
      "source": [
        "## Generalizaciones de $n$-gramas"
      ]
    },
    {
      "cell_type": "markdown",
      "metadata": {
        "id": "nlTZyWxdSuJH"
      },
      "source": [
        "### Skipgrams\n",
        "\n",
        "Un $k$-skip-$n$-gram es una subsecuencia de longitud $n$ en la que los tokens aparecen a una distancia $k$ como máximo entre sí.\n",
        "\n",
        "\n",
        "https://www.nltk.org/api/nltk.util.html"
      ]
    },
    {
      "cell_type": "code",
      "execution_count": 11,
      "metadata": {
        "colab": {
          "base_uri": "https://localhost:8080/"
        },
        "id": "R3DN-utBSwkd",
        "outputId": "cf35b77c-c118-4030-bd12-dfcddb7e3430"
      },
      "outputs": [
        {
          "name": "stdout",
          "output_type": "stream",
          "text": [
            "[('The', 'rain'), ('The', 'in'), ('rain', 'in'), ('rain', 'Spain'), ('in', 'Spain'), ('in', 'falls'), ('Spain', 'falls'), ('Spain', 'mainly'), ('falls', 'mainly'), ('falls', 'on'), ('mainly', 'on'), ('mainly', 'the'), ('on', 'the'), ('on', 'plain'), ('the', 'plain')]\n"
          ]
        }
      ],
      "source": [
        "from nltk.util import skipgrams\n",
        "\n",
        "text = \"The rain in Spain falls mainly on the plain\"\n",
        "\n",
        "tokenized_text = [t for t in nltk.word_tokenize(text) if t not in punctuations]\n",
        "\n",
        "skip_grams = list(skipgrams(tokenized_text, 2, 1))\n",
        "print(skip_grams)"
      ]
    },
    {
      "cell_type": "markdown",
      "metadata": {
        "id": "YAFAeIVeJy_H"
      },
      "source": [
        "### Syntactic n-grams\n",
        "\n",
        "https://www.cic.ipn.mx/~sidorov/#sn-grams"
      ]
    },
    {
      "cell_type": "code",
      "execution_count": null,
      "metadata": {
        "id": "YkCz214cM1A0"
      },
      "outputs": [],
      "source": []
    }
  ],
  "metadata": {
    "colab": {
      "authorship_tag": "ABX9TyPDBIM9M48wmpGBx9ZA47cf",
      "include_colab_link": true,
      "provenance": [],
      "toc_visible": true
    },
    "kernelspec": {
      "display_name": "Python 3",
      "name": "python3"
    },
    "language_info": {
      "name": "python"
    }
  },
  "nbformat": 4,
  "nbformat_minor": 0
}
